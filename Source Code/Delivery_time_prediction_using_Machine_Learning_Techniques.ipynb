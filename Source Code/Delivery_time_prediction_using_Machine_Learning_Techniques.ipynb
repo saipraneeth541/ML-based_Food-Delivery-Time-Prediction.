{
  "nbformat": 4,
  "nbformat_minor": 0,
  "metadata": {
    "accelerator": "GPU",
    "colab": {
      "provenance": []
    },
    "kernelspec": {
      "display_name": "Python 3",
      "language": "python",
      "name": "python3"
    }
  },
  "cells": [
    {
      "cell_type": "markdown",
      "metadata": {
        "id": "YFpFT7cpAS4i"
      },
      "source": [
        "\n",
        "\n",
        "When was the last time you ordered food online? And how long did it take to reach you?\n",
        "\n",
        "\n",
        "\n",
        "**FEATURES:**\n",
        "\n",
        "* Restaurant: A unique ID that represents a restaurant.\n",
        "* Location: The location of the restaurant.\n",
        "* Cuisines: The cuisines offered by the restaurant.\n",
        "* Average_Cost: The average cost for one person/order.\n",
        "* Minimum_Order: The minimum order amount.\n",
        "* Rating: Customer rating for the restaurant.\n",
        "* Votes: The total number of customer votes for the restaurant.\n",
        "* Reviews: The number of customer reviews for the restaurant.\n",
        "* Delivery_Time: The order delivery time of the restaurant. (Target Classes)\n",
        "\n"
      ]
    },
    {
      "cell_type": "markdown",
      "metadata": {
        "id": "S_jBYc1XPmJ3"
      },
      "source": [
        "##Mounting Google Drive"
      ]
    },
    {
      "cell_type": "markdown",
      "metadata": {
        "id": "pe6bXU0rQUqC"
      },
      "source": [
        "Mount your google drive to access files in the drive, here I have uploaded all the requires datasets in to my google drive, mounted it to colab by authorising access."
      ]
    },
    {
      "cell_type": "code",
      "metadata": {
        "id": "dfsrnSdXiyjg",
        "outputId": "cd61917d-5809-4bbd-960a-9715fe812222",
        "colab": {
          "base_uri": "https://localhost:8080/"
        }
      },
      "source": [
        "from google.colab import drive\n",
        "drive.mount(\"/content/drive\")"
      ],
      "execution_count": null,
      "outputs": [
        {
          "output_type": "stream",
          "name": "stdout",
          "text": [
            "Mounted at /content/drive\n"
          ]
        }
      ]
    },
    {
      "cell_type": "markdown",
      "metadata": {
        "id": "dBV2JLd1ALQH"
      },
      "source": [
        "##Loading The Data"
      ]
    },
    {
      "cell_type": "code",
      "metadata": {
        "id": "lDkaeJm_j1R0"
      },
      "source": [
        "#Importing necessary libraries\n",
        "import pandas as pd\n",
        "import numpy as np\n",
        "import re\n",
        "from tqdm import tqdm"
      ],
      "execution_count": null,
      "outputs": []
    },
    {
      "cell_type": "markdown",
      "metadata": {
        "id": "iPqcGP9PQqnC"
      },
      "source": [
        "We will now load the datasets using pandas by mentioning the path to the files residing in the drive as given below."
      ]
    },
    {
      "cell_type": "code",
      "metadata": {
        "id": "dqndqEBzjReJ"
      },
      "source": [
        "train = pd.read_excel(\"/content/train_dataset.xlsx\")\n",
        "test = pd.read_excel(\"/content/test_dataset.xlsx\")"
      ],
      "execution_count": null,
      "outputs": []
    },
    {
      "cell_type": "markdown",
      "metadata": {
        "id": "UceqrG8LAFr_"
      },
      "source": [
        "##Dataset Features"
      ]
    },
    {
      "cell_type": "markdown",
      "metadata": {
        "id": "5L36MM2DRJNz"
      },
      "source": [
        "Before proceeding any further,lets have a look at the dataset and its basic features.\n"
      ]
    },
    {
      "cell_type": "markdown",
      "metadata": {
        "id": "kRIwn_yRAJVE"
      },
      "source": [
        "####Trainig Data"
      ]
    },
    {
      "cell_type": "code",
      "metadata": {
        "id": "PkH-VCvOj0Ai",
        "outputId": "6a7d16e4-47c1-47ae-fd5f-4fb37cae57ee",
        "colab": {
          "base_uri": "https://localhost:8080/"
        }
      },
      "source": [
        "train.shape"
      ],
      "execution_count": null,
      "outputs": [
        {
          "output_type": "execute_result",
          "data": {
            "text/plain": [
              "(8875, 9)"
            ]
          },
          "metadata": {},
          "execution_count": 10
        }
      ]
    },
    {
      "cell_type": "code",
      "metadata": {
        "id": "Fi1vTZOjRT_2",
        "outputId": "21f4c464-ce50-4119-f46a-a4780eed15ad",
        "colab": {
          "base_uri": "https://localhost:8080/"
        }
      },
      "source": [
        "train.columns"
      ],
      "execution_count": null,
      "outputs": [
        {
          "output_type": "execute_result",
          "data": {
            "text/plain": [
              "Index(['Restaurant', 'Location', 'Cuisines', 'Average_Cost', 'Minimum_Order',\n",
              "       'Rating', 'Votes', 'Reviews', 'Delivery_Time'],\n",
              "      dtype='object')"
            ]
          },
          "metadata": {},
          "execution_count": 11
        }
      ]
    },
    {
      "cell_type": "code",
      "metadata": {
        "id": "S-u0Y6aHlRmn"
      },
      "source": [
        "train.head()"
      ],
      "execution_count": null,
      "outputs": []
    },
    {
      "cell_type": "code",
      "metadata": {
        "id": "zg-AtOlZ_nRZ",
        "outputId": "653056a0-ac78-47f9-d411-1c35ea10a63c",
        "colab": {
          "base_uri": "https://localhost:8080/"
        }
      },
      "source": [
        "train.isnull().sum()"
      ],
      "execution_count": null,
      "outputs": [
        {
          "output_type": "execute_result",
          "data": {
            "text/plain": [
              "Restaurant       0\n",
              "Location         0\n",
              "Cuisines         0\n",
              "Average_Cost     0\n",
              "Minimum_Order    0\n",
              "Rating           0\n",
              "Votes            0\n",
              "Reviews          0\n",
              "Delivery_Time    0\n",
              "dtype: int64"
            ]
          },
          "metadata": {},
          "execution_count": 13
        }
      ]
    },
    {
      "cell_type": "code",
      "metadata": {
        "id": "MDc0ws0igEqr",
        "outputId": "6c609405-7ad6-429c-cd77-6edd922128fd",
        "colab": {
          "base_uri": "https://localhost:8080/",
          "height": 175
        }
      },
      "source": [
        "train.describe(include = 'all')"
      ],
      "execution_count": null,
      "outputs": [
        {
          "output_type": "execute_result",
          "data": {
            "text/plain": [
              "       Restaurant                                    Location      Cuisines  \\\n",
              "count        8875                                        8875          8875   \n",
              "unique       6363                                          35          1920   \n",
              "top       ID_4625  Mico Layout, Stage 2, BTM Layout,Bangalore  North Indian   \n",
              "freq           16                                         753           681   \n",
              "\n",
              "       Average_Cost Minimum_Order Rating Votes Reviews Delivery_Time  \n",
              "count          8875          8875   8875  8875    8875          8875  \n",
              "unique           23            15     33  1024     711             7  \n",
              "top            ₹200           ₹50      -     -       -    30 minutes  \n",
              "freq           2594          8115    961  1676    1859          5919  "
            ],
            "text/html": [
              "\n",
              "  <div id=\"df-05e602af-5f08-4500-8502-3ff1096ee999\">\n",
              "    <div class=\"colab-df-container\">\n",
              "      <div>\n",
              "<style scoped>\n",
              "    .dataframe tbody tr th:only-of-type {\n",
              "        vertical-align: middle;\n",
              "    }\n",
              "\n",
              "    .dataframe tbody tr th {\n",
              "        vertical-align: top;\n",
              "    }\n",
              "\n",
              "    .dataframe thead th {\n",
              "        text-align: right;\n",
              "    }\n",
              "</style>\n",
              "<table border=\"1\" class=\"dataframe\">\n",
              "  <thead>\n",
              "    <tr style=\"text-align: right;\">\n",
              "      <th></th>\n",
              "      <th>Restaurant</th>\n",
              "      <th>Location</th>\n",
              "      <th>Cuisines</th>\n",
              "      <th>Average_Cost</th>\n",
              "      <th>Minimum_Order</th>\n",
              "      <th>Rating</th>\n",
              "      <th>Votes</th>\n",
              "      <th>Reviews</th>\n",
              "      <th>Delivery_Time</th>\n",
              "    </tr>\n",
              "  </thead>\n",
              "  <tbody>\n",
              "    <tr>\n",
              "      <th>count</th>\n",
              "      <td>8875</td>\n",
              "      <td>8875</td>\n",
              "      <td>8875</td>\n",
              "      <td>8875</td>\n",
              "      <td>8875</td>\n",
              "      <td>8875</td>\n",
              "      <td>8875</td>\n",
              "      <td>8875</td>\n",
              "      <td>8875</td>\n",
              "    </tr>\n",
              "    <tr>\n",
              "      <th>unique</th>\n",
              "      <td>6363</td>\n",
              "      <td>35</td>\n",
              "      <td>1920</td>\n",
              "      <td>23</td>\n",
              "      <td>15</td>\n",
              "      <td>33</td>\n",
              "      <td>1024</td>\n",
              "      <td>711</td>\n",
              "      <td>7</td>\n",
              "    </tr>\n",
              "    <tr>\n",
              "      <th>top</th>\n",
              "      <td>ID_4625</td>\n",
              "      <td>Mico Layout, Stage 2, BTM Layout,Bangalore</td>\n",
              "      <td>North Indian</td>\n",
              "      <td>₹200</td>\n",
              "      <td>₹50</td>\n",
              "      <td>-</td>\n",
              "      <td>-</td>\n",
              "      <td>-</td>\n",
              "      <td>30 minutes</td>\n",
              "    </tr>\n",
              "    <tr>\n",
              "      <th>freq</th>\n",
              "      <td>16</td>\n",
              "      <td>753</td>\n",
              "      <td>681</td>\n",
              "      <td>2594</td>\n",
              "      <td>8115</td>\n",
              "      <td>961</td>\n",
              "      <td>1676</td>\n",
              "      <td>1859</td>\n",
              "      <td>5919</td>\n",
              "    </tr>\n",
              "  </tbody>\n",
              "</table>\n",
              "</div>\n",
              "      <button class=\"colab-df-convert\" onclick=\"convertToInteractive('df-05e602af-5f08-4500-8502-3ff1096ee999')\"\n",
              "              title=\"Convert this dataframe to an interactive table.\"\n",
              "              style=\"display:none;\">\n",
              "        \n",
              "  <svg xmlns=\"http://www.w3.org/2000/svg\" height=\"24px\"viewBox=\"0 0 24 24\"\n",
              "       width=\"24px\">\n",
              "    <path d=\"M0 0h24v24H0V0z\" fill=\"none\"/>\n",
              "    <path d=\"M18.56 5.44l.94 2.06.94-2.06 2.06-.94-2.06-.94-.94-2.06-.94 2.06-2.06.94zm-11 1L8.5 8.5l.94-2.06 2.06-.94-2.06-.94L8.5 2.5l-.94 2.06-2.06.94zm10 10l.94 2.06.94-2.06 2.06-.94-2.06-.94-.94-2.06-.94 2.06-2.06.94z\"/><path d=\"M17.41 7.96l-1.37-1.37c-.4-.4-.92-.59-1.43-.59-.52 0-1.04.2-1.43.59L10.3 9.45l-7.72 7.72c-.78.78-.78 2.05 0 2.83L4 21.41c.39.39.9.59 1.41.59.51 0 1.02-.2 1.41-.59l7.78-7.78 2.81-2.81c.8-.78.8-2.07 0-2.86zM5.41 20L4 18.59l7.72-7.72 1.47 1.35L5.41 20z\"/>\n",
              "  </svg>\n",
              "      </button>\n",
              "      \n",
              "  <style>\n",
              "    .colab-df-container {\n",
              "      display:flex;\n",
              "      flex-wrap:wrap;\n",
              "      gap: 12px;\n",
              "    }\n",
              "\n",
              "    .colab-df-convert {\n",
              "      background-color: #E8F0FE;\n",
              "      border: none;\n",
              "      border-radius: 50%;\n",
              "      cursor: pointer;\n",
              "      display: none;\n",
              "      fill: #1967D2;\n",
              "      height: 32px;\n",
              "      padding: 0 0 0 0;\n",
              "      width: 32px;\n",
              "    }\n",
              "\n",
              "    .colab-df-convert:hover {\n",
              "      background-color: #E2EBFA;\n",
              "      box-shadow: 0px 1px 2px rgba(60, 64, 67, 0.3), 0px 1px 3px 1px rgba(60, 64, 67, 0.15);\n",
              "      fill: #174EA6;\n",
              "    }\n",
              "\n",
              "    [theme=dark] .colab-df-convert {\n",
              "      background-color: #3B4455;\n",
              "      fill: #D2E3FC;\n",
              "    }\n",
              "\n",
              "    [theme=dark] .colab-df-convert:hover {\n",
              "      background-color: #434B5C;\n",
              "      box-shadow: 0px 1px 3px 1px rgba(0, 0, 0, 0.15);\n",
              "      filter: drop-shadow(0px 1px 2px rgba(0, 0, 0, 0.3));\n",
              "      fill: #FFFFFF;\n",
              "    }\n",
              "  </style>\n",
              "\n",
              "      <script>\n",
              "        const buttonEl =\n",
              "          document.querySelector('#df-05e602af-5f08-4500-8502-3ff1096ee999 button.colab-df-convert');\n",
              "        buttonEl.style.display =\n",
              "          google.colab.kernel.accessAllowed ? 'block' : 'none';\n",
              "\n",
              "        async function convertToInteractive(key) {\n",
              "          const element = document.querySelector('#df-05e602af-5f08-4500-8502-3ff1096ee999');\n",
              "          const dataTable =\n",
              "            await google.colab.kernel.invokeFunction('convertToInteractive',\n",
              "                                                     [key], {});\n",
              "          if (!dataTable) return;\n",
              "\n",
              "          const docLinkHtml = 'Like what you see? Visit the ' +\n",
              "            '<a target=\"_blank\" href=https://colab.research.google.com/notebooks/data_table.ipynb>data table notebook</a>'\n",
              "            + ' to learn more about interactive tables.';\n",
              "          element.innerHTML = '';\n",
              "          dataTable['output_type'] = 'display_data';\n",
              "          await google.colab.output.renderOutput(dataTable, element);\n",
              "          const docLink = document.createElement('div');\n",
              "          docLink.innerHTML = docLinkHtml;\n",
              "          element.appendChild(docLink);\n",
              "        }\n",
              "      </script>\n",
              "    </div>\n",
              "  </div>\n",
              "  "
            ]
          },
          "metadata": {},
          "execution_count": 14
        }
      ]
    },
    {
      "cell_type": "code",
      "metadata": {
        "id": "nnlbbxSa_75y",
        "outputId": "88295488-c9f5-4d1e-db01-bc9f3a6e69df",
        "colab": {
          "base_uri": "https://localhost:8080/"
        }
      },
      "source": [
        "train.info()"
      ],
      "execution_count": null,
      "outputs": [
        {
          "output_type": "stream",
          "name": "stdout",
          "text": [
            "<class 'pandas.core.frame.DataFrame'>\n",
            "RangeIndex: 8875 entries, 0 to 8874\n",
            "Data columns (total 9 columns):\n",
            " #   Column         Non-Null Count  Dtype \n",
            "---  ------         --------------  ----- \n",
            " 0   Restaurant     8875 non-null   object\n",
            " 1   Location       8875 non-null   object\n",
            " 2   Cuisines       8875 non-null   object\n",
            " 3   Average_Cost   8875 non-null   object\n",
            " 4   Minimum_Order  8875 non-null   object\n",
            " 5   Rating         8875 non-null   object\n",
            " 6   Votes          8875 non-null   object\n",
            " 7   Reviews        8875 non-null   object\n",
            " 8   Delivery_Time  8875 non-null   object\n",
            "dtypes: object(9)\n",
            "memory usage: 624.1+ KB\n"
          ]
        }
      ]
    },
    {
      "cell_type": "markdown",
      "metadata": {
        "id": "ucWulRUiAaO-"
      },
      "source": [
        "####Test Data"
      ]
    },
    {
      "cell_type": "code",
      "metadata": {
        "id": "R2hWiEHllP7D",
        "outputId": "35fa7af3-56c5-466b-ce69-16f949854e73",
        "colab": {
          "base_uri": "https://localhost:8080/"
        }
      },
      "source": [
        "test.shape"
      ],
      "execution_count": null,
      "outputs": [
        {
          "output_type": "execute_result",
          "data": {
            "text/plain": [
              "(2219, 8)"
            ]
          },
          "metadata": {},
          "execution_count": 16
        }
      ]
    },
    {
      "cell_type": "code",
      "metadata": {
        "id": "ECOLxRPMRaZa",
        "outputId": "aec5e22e-fed2-4833-ac56-7fdeabd43b3f",
        "colab": {
          "base_uri": "https://localhost:8080/"
        }
      },
      "source": [
        "test.columns"
      ],
      "execution_count": null,
      "outputs": [
        {
          "output_type": "execute_result",
          "data": {
            "text/plain": [
              "Index(['Restaurant', 'Location', 'Cuisines', 'Average_Cost', 'Minimum_Order',\n",
              "       'Rating', 'Votes', 'Reviews'],\n",
              "      dtype='object')"
            ]
          },
          "metadata": {},
          "execution_count": 17
        }
      ]
    },
    {
      "cell_type": "code",
      "metadata": {
        "id": "kA709EfflT1M",
        "outputId": "49c3b48e-5ee1-478f-b910-78ed35ca8f0f",
        "colab": {
          "base_uri": "https://localhost:8080/",
          "height": 206
        }
      },
      "source": [
        "test.head()"
      ],
      "execution_count": null,
      "outputs": [
        {
          "output_type": "execute_result",
          "data": {
            "text/plain": [
              "  Restaurant                                    Location  \\\n",
              "0    ID_3190              Dockyard Road, Mumbai CST Area   \n",
              "1    ID_4249  Mico Layout, Stage 2, BTM Layout,Bangalore   \n",
              "2    ID_6657     Tejas Nagar Colony, Wadala West, Mumbai   \n",
              "3    ID_2879              Dockyard Road, Mumbai CST Area   \n",
              "4    ID_3638                                    Majestic   \n",
              "\n",
              "                                Cuisines Average_Cost Minimum_Order Rating  \\\n",
              "0                              Fast Food         ₹100           ₹50      -   \n",
              "1                 Beverages, Street Food         ₹100           ₹50    3.3   \n",
              "2                           South Indian         ₹200           ₹50    3.2   \n",
              "3  South Indian, North Indian, Fast Food         ₹200           ₹50    3.7   \n",
              "4                        Raw Meats, Naga         ₹100           ₹50    3.6   \n",
              "\n",
              "  Votes Reviews  \n",
              "0     -       -  \n",
              "1     4       3  \n",
              "2    12       4  \n",
              "3   182     107  \n",
              "4    19       7  "
            ],
            "text/html": [
              "\n",
              "  <div id=\"df-fa338d80-a870-4b5c-82d3-3d926db91fdb\">\n",
              "    <div class=\"colab-df-container\">\n",
              "      <div>\n",
              "<style scoped>\n",
              "    .dataframe tbody tr th:only-of-type {\n",
              "        vertical-align: middle;\n",
              "    }\n",
              "\n",
              "    .dataframe tbody tr th {\n",
              "        vertical-align: top;\n",
              "    }\n",
              "\n",
              "    .dataframe thead th {\n",
              "        text-align: right;\n",
              "    }\n",
              "</style>\n",
              "<table border=\"1\" class=\"dataframe\">\n",
              "  <thead>\n",
              "    <tr style=\"text-align: right;\">\n",
              "      <th></th>\n",
              "      <th>Restaurant</th>\n",
              "      <th>Location</th>\n",
              "      <th>Cuisines</th>\n",
              "      <th>Average_Cost</th>\n",
              "      <th>Minimum_Order</th>\n",
              "      <th>Rating</th>\n",
              "      <th>Votes</th>\n",
              "      <th>Reviews</th>\n",
              "    </tr>\n",
              "  </thead>\n",
              "  <tbody>\n",
              "    <tr>\n",
              "      <th>0</th>\n",
              "      <td>ID_3190</td>\n",
              "      <td>Dockyard Road, Mumbai CST Area</td>\n",
              "      <td>Fast Food</td>\n",
              "      <td>₹100</td>\n",
              "      <td>₹50</td>\n",
              "      <td>-</td>\n",
              "      <td>-</td>\n",
              "      <td>-</td>\n",
              "    </tr>\n",
              "    <tr>\n",
              "      <th>1</th>\n",
              "      <td>ID_4249</td>\n",
              "      <td>Mico Layout, Stage 2, BTM Layout,Bangalore</td>\n",
              "      <td>Beverages, Street Food</td>\n",
              "      <td>₹100</td>\n",
              "      <td>₹50</td>\n",
              "      <td>3.3</td>\n",
              "      <td>4</td>\n",
              "      <td>3</td>\n",
              "    </tr>\n",
              "    <tr>\n",
              "      <th>2</th>\n",
              "      <td>ID_6657</td>\n",
              "      <td>Tejas Nagar Colony, Wadala West, Mumbai</td>\n",
              "      <td>South Indian</td>\n",
              "      <td>₹200</td>\n",
              "      <td>₹50</td>\n",
              "      <td>3.2</td>\n",
              "      <td>12</td>\n",
              "      <td>4</td>\n",
              "    </tr>\n",
              "    <tr>\n",
              "      <th>3</th>\n",
              "      <td>ID_2879</td>\n",
              "      <td>Dockyard Road, Mumbai CST Area</td>\n",
              "      <td>South Indian, North Indian, Fast Food</td>\n",
              "      <td>₹200</td>\n",
              "      <td>₹50</td>\n",
              "      <td>3.7</td>\n",
              "      <td>182</td>\n",
              "      <td>107</td>\n",
              "    </tr>\n",
              "    <tr>\n",
              "      <th>4</th>\n",
              "      <td>ID_3638</td>\n",
              "      <td>Majestic</td>\n",
              "      <td>Raw Meats, Naga</td>\n",
              "      <td>₹100</td>\n",
              "      <td>₹50</td>\n",
              "      <td>3.6</td>\n",
              "      <td>19</td>\n",
              "      <td>7</td>\n",
              "    </tr>\n",
              "  </tbody>\n",
              "</table>\n",
              "</div>\n",
              "      <button class=\"colab-df-convert\" onclick=\"convertToInteractive('df-fa338d80-a870-4b5c-82d3-3d926db91fdb')\"\n",
              "              title=\"Convert this dataframe to an interactive table.\"\n",
              "              style=\"display:none;\">\n",
              "        \n",
              "  <svg xmlns=\"http://www.w3.org/2000/svg\" height=\"24px\"viewBox=\"0 0 24 24\"\n",
              "       width=\"24px\">\n",
              "    <path d=\"M0 0h24v24H0V0z\" fill=\"none\"/>\n",
              "    <path d=\"M18.56 5.44l.94 2.06.94-2.06 2.06-.94-2.06-.94-.94-2.06-.94 2.06-2.06.94zm-11 1L8.5 8.5l.94-2.06 2.06-.94-2.06-.94L8.5 2.5l-.94 2.06-2.06.94zm10 10l.94 2.06.94-2.06 2.06-.94-2.06-.94-.94-2.06-.94 2.06-2.06.94z\"/><path d=\"M17.41 7.96l-1.37-1.37c-.4-.4-.92-.59-1.43-.59-.52 0-1.04.2-1.43.59L10.3 9.45l-7.72 7.72c-.78.78-.78 2.05 0 2.83L4 21.41c.39.39.9.59 1.41.59.51 0 1.02-.2 1.41-.59l7.78-7.78 2.81-2.81c.8-.78.8-2.07 0-2.86zM5.41 20L4 18.59l7.72-7.72 1.47 1.35L5.41 20z\"/>\n",
              "  </svg>\n",
              "      </button>\n",
              "      \n",
              "  <style>\n",
              "    .colab-df-container {\n",
              "      display:flex;\n",
              "      flex-wrap:wrap;\n",
              "      gap: 12px;\n",
              "    }\n",
              "\n",
              "    .colab-df-convert {\n",
              "      background-color: #E8F0FE;\n",
              "      border: none;\n",
              "      border-radius: 50%;\n",
              "      cursor: pointer;\n",
              "      display: none;\n",
              "      fill: #1967D2;\n",
              "      height: 32px;\n",
              "      padding: 0 0 0 0;\n",
              "      width: 32px;\n",
              "    }\n",
              "\n",
              "    .colab-df-convert:hover {\n",
              "      background-color: #E2EBFA;\n",
              "      box-shadow: 0px 1px 2px rgba(60, 64, 67, 0.3), 0px 1px 3px 1px rgba(60, 64, 67, 0.15);\n",
              "      fill: #174EA6;\n",
              "    }\n",
              "\n",
              "    [theme=dark] .colab-df-convert {\n",
              "      background-color: #3B4455;\n",
              "      fill: #D2E3FC;\n",
              "    }\n",
              "\n",
              "    [theme=dark] .colab-df-convert:hover {\n",
              "      background-color: #434B5C;\n",
              "      box-shadow: 0px 1px 3px 1px rgba(0, 0, 0, 0.15);\n",
              "      filter: drop-shadow(0px 1px 2px rgba(0, 0, 0, 0.3));\n",
              "      fill: #FFFFFF;\n",
              "    }\n",
              "  </style>\n",
              "\n",
              "      <script>\n",
              "        const buttonEl =\n",
              "          document.querySelector('#df-fa338d80-a870-4b5c-82d3-3d926db91fdb button.colab-df-convert');\n",
              "        buttonEl.style.display =\n",
              "          google.colab.kernel.accessAllowed ? 'block' : 'none';\n",
              "\n",
              "        async function convertToInteractive(key) {\n",
              "          const element = document.querySelector('#df-fa338d80-a870-4b5c-82d3-3d926db91fdb');\n",
              "          const dataTable =\n",
              "            await google.colab.kernel.invokeFunction('convertToInteractive',\n",
              "                                                     [key], {});\n",
              "          if (!dataTable) return;\n",
              "\n",
              "          const docLinkHtml = 'Like what you see? Visit the ' +\n",
              "            '<a target=\"_blank\" href=https://colab.research.google.com/notebooks/data_table.ipynb>data table notebook</a>'\n",
              "            + ' to learn more about interactive tables.';\n",
              "          element.innerHTML = '';\n",
              "          dataTable['output_type'] = 'display_data';\n",
              "          await google.colab.output.renderOutput(dataTable, element);\n",
              "          const docLink = document.createElement('div');\n",
              "          docLink.innerHTML = docLinkHtml;\n",
              "          element.appendChild(docLink);\n",
              "        }\n",
              "      </script>\n",
              "    </div>\n",
              "  </div>\n",
              "  "
            ]
          },
          "metadata": {},
          "execution_count": 18
        }
      ]
    },
    {
      "cell_type": "code",
      "metadata": {
        "id": "cV8c6gTx_y1_",
        "outputId": "d5bbdf6c-265f-42f1-95c1-11a717063c8e",
        "colab": {
          "base_uri": "https://localhost:8080/"
        }
      },
      "source": [
        "test.isnull().sum()"
      ],
      "execution_count": null,
      "outputs": [
        {
          "output_type": "execute_result",
          "data": {
            "text/plain": [
              "Restaurant       0\n",
              "Location         0\n",
              "Cuisines         0\n",
              "Average_Cost     0\n",
              "Minimum_Order    0\n",
              "Rating           0\n",
              "Votes            0\n",
              "Reviews          0\n",
              "dtype: int64"
            ]
          },
          "metadata": {},
          "execution_count": 19
        }
      ]
    },
    {
      "cell_type": "code",
      "metadata": {
        "id": "vMQHK61o___h",
        "outputId": "b237a39e-72e4-4829-8884-6e5a939fd6eb",
        "colab": {
          "base_uri": "https://localhost:8080/"
        }
      },
      "source": [
        "test.info()"
      ],
      "execution_count": null,
      "outputs": [
        {
          "output_type": "stream",
          "name": "stdout",
          "text": [
            "<class 'pandas.core.frame.DataFrame'>\n",
            "RangeIndex: 2219 entries, 0 to 2218\n",
            "Data columns (total 8 columns):\n",
            " #   Column         Non-Null Count  Dtype \n",
            "---  ------         --------------  ----- \n",
            " 0   Restaurant     2219 non-null   object\n",
            " 1   Location       2219 non-null   object\n",
            " 2   Cuisines       2219 non-null   object\n",
            " 3   Average_Cost   2219 non-null   object\n",
            " 4   Minimum_Order  2219 non-null   object\n",
            " 5   Rating         2219 non-null   object\n",
            " 6   Votes          2219 non-null   object\n",
            " 7   Reviews        2219 non-null   object\n",
            "dtypes: object(8)\n",
            "memory usage: 138.8+ KB\n"
          ]
        }
      ]
    },
    {
      "cell_type": "code",
      "metadata": {
        "id": "mIMWYFUDAgAv",
        "outputId": "287d5b11-c126-4e1a-cc5d-aa03f10c0dab",
        "colab": {
          "base_uri": "https://localhost:8080/",
          "height": 175
        }
      },
      "source": [
        "test.describe(include = 'all')"
      ],
      "execution_count": null,
      "outputs": [
        {
          "output_type": "execute_result",
          "data": {
            "text/plain": [
              "       Restaurant                                    Location      Cuisines  \\\n",
              "count        2219                                        2219          2219   \n",
              "unique       1974                                          35           757   \n",
              "top       ID_7184  Mico Layout, Stage 2, BTM Layout,Bangalore  North Indian   \n",
              "freq            7                                         194           169   \n",
              "\n",
              "       Average_Cost Minimum_Order Rating Votes Reviews  \n",
              "count          2219          2219   2219  2219    2219  \n",
              "unique           23            11     30   508     358  \n",
              "top            ₹200           ₹50      -     -       -  \n",
              "freq            647          2003    230   398     453  "
            ],
            "text/html": [
              "\n",
              "  <div id=\"df-86a2954a-703a-4e15-af19-c256e5ff6347\">\n",
              "    <div class=\"colab-df-container\">\n",
              "      <div>\n",
              "<style scoped>\n",
              "    .dataframe tbody tr th:only-of-type {\n",
              "        vertical-align: middle;\n",
              "    }\n",
              "\n",
              "    .dataframe tbody tr th {\n",
              "        vertical-align: top;\n",
              "    }\n",
              "\n",
              "    .dataframe thead th {\n",
              "        text-align: right;\n",
              "    }\n",
              "</style>\n",
              "<table border=\"1\" class=\"dataframe\">\n",
              "  <thead>\n",
              "    <tr style=\"text-align: right;\">\n",
              "      <th></th>\n",
              "      <th>Restaurant</th>\n",
              "      <th>Location</th>\n",
              "      <th>Cuisines</th>\n",
              "      <th>Average_Cost</th>\n",
              "      <th>Minimum_Order</th>\n",
              "      <th>Rating</th>\n",
              "      <th>Votes</th>\n",
              "      <th>Reviews</th>\n",
              "    </tr>\n",
              "  </thead>\n",
              "  <tbody>\n",
              "    <tr>\n",
              "      <th>count</th>\n",
              "      <td>2219</td>\n",
              "      <td>2219</td>\n",
              "      <td>2219</td>\n",
              "      <td>2219</td>\n",
              "      <td>2219</td>\n",
              "      <td>2219</td>\n",
              "      <td>2219</td>\n",
              "      <td>2219</td>\n",
              "    </tr>\n",
              "    <tr>\n",
              "      <th>unique</th>\n",
              "      <td>1974</td>\n",
              "      <td>35</td>\n",
              "      <td>757</td>\n",
              "      <td>23</td>\n",
              "      <td>11</td>\n",
              "      <td>30</td>\n",
              "      <td>508</td>\n",
              "      <td>358</td>\n",
              "    </tr>\n",
              "    <tr>\n",
              "      <th>top</th>\n",
              "      <td>ID_7184</td>\n",
              "      <td>Mico Layout, Stage 2, BTM Layout,Bangalore</td>\n",
              "      <td>North Indian</td>\n",
              "      <td>₹200</td>\n",
              "      <td>₹50</td>\n",
              "      <td>-</td>\n",
              "      <td>-</td>\n",
              "      <td>-</td>\n",
              "    </tr>\n",
              "    <tr>\n",
              "      <th>freq</th>\n",
              "      <td>7</td>\n",
              "      <td>194</td>\n",
              "      <td>169</td>\n",
              "      <td>647</td>\n",
              "      <td>2003</td>\n",
              "      <td>230</td>\n",
              "      <td>398</td>\n",
              "      <td>453</td>\n",
              "    </tr>\n",
              "  </tbody>\n",
              "</table>\n",
              "</div>\n",
              "      <button class=\"colab-df-convert\" onclick=\"convertToInteractive('df-86a2954a-703a-4e15-af19-c256e5ff6347')\"\n",
              "              title=\"Convert this dataframe to an interactive table.\"\n",
              "              style=\"display:none;\">\n",
              "        \n",
              "  <svg xmlns=\"http://www.w3.org/2000/svg\" height=\"24px\"viewBox=\"0 0 24 24\"\n",
              "       width=\"24px\">\n",
              "    <path d=\"M0 0h24v24H0V0z\" fill=\"none\"/>\n",
              "    <path d=\"M18.56 5.44l.94 2.06.94-2.06 2.06-.94-2.06-.94-.94-2.06-.94 2.06-2.06.94zm-11 1L8.5 8.5l.94-2.06 2.06-.94-2.06-.94L8.5 2.5l-.94 2.06-2.06.94zm10 10l.94 2.06.94-2.06 2.06-.94-2.06-.94-.94-2.06-.94 2.06-2.06.94z\"/><path d=\"M17.41 7.96l-1.37-1.37c-.4-.4-.92-.59-1.43-.59-.52 0-1.04.2-1.43.59L10.3 9.45l-7.72 7.72c-.78.78-.78 2.05 0 2.83L4 21.41c.39.39.9.59 1.41.59.51 0 1.02-.2 1.41-.59l7.78-7.78 2.81-2.81c.8-.78.8-2.07 0-2.86zM5.41 20L4 18.59l7.72-7.72 1.47 1.35L5.41 20z\"/>\n",
              "  </svg>\n",
              "      </button>\n",
              "      \n",
              "  <style>\n",
              "    .colab-df-container {\n",
              "      display:flex;\n",
              "      flex-wrap:wrap;\n",
              "      gap: 12px;\n",
              "    }\n",
              "\n",
              "    .colab-df-convert {\n",
              "      background-color: #E8F0FE;\n",
              "      border: none;\n",
              "      border-radius: 50%;\n",
              "      cursor: pointer;\n",
              "      display: none;\n",
              "      fill: #1967D2;\n",
              "      height: 32px;\n",
              "      padding: 0 0 0 0;\n",
              "      width: 32px;\n",
              "    }\n",
              "\n",
              "    .colab-df-convert:hover {\n",
              "      background-color: #E2EBFA;\n",
              "      box-shadow: 0px 1px 2px rgba(60, 64, 67, 0.3), 0px 1px 3px 1px rgba(60, 64, 67, 0.15);\n",
              "      fill: #174EA6;\n",
              "    }\n",
              "\n",
              "    [theme=dark] .colab-df-convert {\n",
              "      background-color: #3B4455;\n",
              "      fill: #D2E3FC;\n",
              "    }\n",
              "\n",
              "    [theme=dark] .colab-df-convert:hover {\n",
              "      background-color: #434B5C;\n",
              "      box-shadow: 0px 1px 3px 1px rgba(0, 0, 0, 0.15);\n",
              "      filter: drop-shadow(0px 1px 2px rgba(0, 0, 0, 0.3));\n",
              "      fill: #FFFFFF;\n",
              "    }\n",
              "  </style>\n",
              "\n",
              "      <script>\n",
              "        const buttonEl =\n",
              "          document.querySelector('#df-86a2954a-703a-4e15-af19-c256e5ff6347 button.colab-df-convert');\n",
              "        buttonEl.style.display =\n",
              "          google.colab.kernel.accessAllowed ? 'block' : 'none';\n",
              "\n",
              "        async function convertToInteractive(key) {\n",
              "          const element = document.querySelector('#df-86a2954a-703a-4e15-af19-c256e5ff6347');\n",
              "          const dataTable =\n",
              "            await google.colab.kernel.invokeFunction('convertToInteractive',\n",
              "                                                     [key], {});\n",
              "          if (!dataTable) return;\n",
              "\n",
              "          const docLinkHtml = 'Like what you see? Visit the ' +\n",
              "            '<a target=\"_blank\" href=https://colab.research.google.com/notebooks/data_table.ipynb>data table notebook</a>'\n",
              "            + ' to learn more about interactive tables.';\n",
              "          element.innerHTML = '';\n",
              "          dataTable['output_type'] = 'display_data';\n",
              "          await google.colab.output.renderOutput(dataTable, element);\n",
              "          const docLink = document.createElement('div');\n",
              "          docLink.innerHTML = docLinkHtml;\n",
              "          element.appendChild(docLink);\n",
              "        }\n",
              "      </script>\n",
              "    </div>\n",
              "  </div>\n",
              "  "
            ]
          },
          "metadata": {},
          "execution_count": 21
        }
      ]
    },
    {
      "cell_type": "markdown",
      "metadata": {
        "id": "_YYJ_HI9A1qg"
      },
      "source": [
        "##Data Cleaning"
      ]
    },
    {
      "cell_type": "markdown",
      "metadata": {
        "id": "yyJYTvr8RjwO"
      },
      "source": [
        "We will consider the following features of training and test datasets. Here I have grouped the columns based on similarity of values which will make it easy for cleaning.\n",
        "\n",
        "* Cleaning Average_Cost & Minimum_order columns to remove special characters and make them float variables.\n",
        "* Location & Cuisines are categoriacal variables that needs to be cleaned before encoding.\n",
        "* Rating, Votes & Reviews needs to be cleaned and converted to respective types.\n",
        "\n",
        "We will delve deeper in the coming sections.\n",
        "\n"
      ]
    },
    {
      "cell_type": "markdown",
      "metadata": {
        "id": "pwjvNSkCBLC6"
      },
      "source": [
        "####Average_Cost\t& Minimum_order"
      ]
    },
    {
      "cell_type": "code",
      "metadata": {
        "id": "sRsfJuPbkW3C",
        "outputId": "d4ba61f5-5016-46db-99fc-cb010f89a1a5",
        "colab": {
          "base_uri": "https://localhost:8080/",
          "height": 206
        }
      },
      "source": [
        "train.head()"
      ],
      "execution_count": null,
      "outputs": [
        {
          "output_type": "execute_result",
          "data": {
            "text/plain": [
              "  Restaurant                              Location  \\\n",
              "0    ID_3744        Dockyard Road, Mumbai CST Area   \n",
              "1    ID_5984                          Delhi Cantt.   \n",
              "2      ID_13                         MG Road, Pune   \n",
              "3     ID_643  Delhi Administration Flats, Timarpur   \n",
              "4    ID_5754                       Pune University   \n",
              "\n",
              "                                            Cuisines Average_Cost  \\\n",
              "0                                 Fast Food, Chinese         ₹200   \n",
              "1                                       North Indian         ₹100   \n",
              "2  Continental, North Indian, Seafood, Cafe, Sala...         ₹650   \n",
              "3                                               Naga         ₹250   \n",
              "4                                   Pizza, Fast Food         ₹200   \n",
              "\n",
              "  Minimum_Order Rating Votes Reviews Delivery_Time  \n",
              "0           ₹50    3.8    91      44    45 minutes  \n",
              "1           ₹50    2.9    37      16    30 minutes  \n",
              "2           ₹50    4.1  3860    1962    45 minutes  \n",
              "3           ₹50    3.9   313     119    45 minutes  \n",
              "4           ₹50    3.3    86      48    45 minutes  "
            ],
            "text/html": [
              "\n",
              "  <div id=\"df-613146ca-5640-41d8-bfd5-a55eda0c4a0d\">\n",
              "    <div class=\"colab-df-container\">\n",
              "      <div>\n",
              "<style scoped>\n",
              "    .dataframe tbody tr th:only-of-type {\n",
              "        vertical-align: middle;\n",
              "    }\n",
              "\n",
              "    .dataframe tbody tr th {\n",
              "        vertical-align: top;\n",
              "    }\n",
              "\n",
              "    .dataframe thead th {\n",
              "        text-align: right;\n",
              "    }\n",
              "</style>\n",
              "<table border=\"1\" class=\"dataframe\">\n",
              "  <thead>\n",
              "    <tr style=\"text-align: right;\">\n",
              "      <th></th>\n",
              "      <th>Restaurant</th>\n",
              "      <th>Location</th>\n",
              "      <th>Cuisines</th>\n",
              "      <th>Average_Cost</th>\n",
              "      <th>Minimum_Order</th>\n",
              "      <th>Rating</th>\n",
              "      <th>Votes</th>\n",
              "      <th>Reviews</th>\n",
              "      <th>Delivery_Time</th>\n",
              "    </tr>\n",
              "  </thead>\n",
              "  <tbody>\n",
              "    <tr>\n",
              "      <th>0</th>\n",
              "      <td>ID_3744</td>\n",
              "      <td>Dockyard Road, Mumbai CST Area</td>\n",
              "      <td>Fast Food, Chinese</td>\n",
              "      <td>₹200</td>\n",
              "      <td>₹50</td>\n",
              "      <td>3.8</td>\n",
              "      <td>91</td>\n",
              "      <td>44</td>\n",
              "      <td>45 minutes</td>\n",
              "    </tr>\n",
              "    <tr>\n",
              "      <th>1</th>\n",
              "      <td>ID_5984</td>\n",
              "      <td>Delhi Cantt.</td>\n",
              "      <td>North Indian</td>\n",
              "      <td>₹100</td>\n",
              "      <td>₹50</td>\n",
              "      <td>2.9</td>\n",
              "      <td>37</td>\n",
              "      <td>16</td>\n",
              "      <td>30 minutes</td>\n",
              "    </tr>\n",
              "    <tr>\n",
              "      <th>2</th>\n",
              "      <td>ID_13</td>\n",
              "      <td>MG Road, Pune</td>\n",
              "      <td>Continental, North Indian, Seafood, Cafe, Sala...</td>\n",
              "      <td>₹650</td>\n",
              "      <td>₹50</td>\n",
              "      <td>4.1</td>\n",
              "      <td>3860</td>\n",
              "      <td>1962</td>\n",
              "      <td>45 minutes</td>\n",
              "    </tr>\n",
              "    <tr>\n",
              "      <th>3</th>\n",
              "      <td>ID_643</td>\n",
              "      <td>Delhi Administration Flats, Timarpur</td>\n",
              "      <td>Naga</td>\n",
              "      <td>₹250</td>\n",
              "      <td>₹50</td>\n",
              "      <td>3.9</td>\n",
              "      <td>313</td>\n",
              "      <td>119</td>\n",
              "      <td>45 minutes</td>\n",
              "    </tr>\n",
              "    <tr>\n",
              "      <th>4</th>\n",
              "      <td>ID_5754</td>\n",
              "      <td>Pune University</td>\n",
              "      <td>Pizza, Fast Food</td>\n",
              "      <td>₹200</td>\n",
              "      <td>₹50</td>\n",
              "      <td>3.3</td>\n",
              "      <td>86</td>\n",
              "      <td>48</td>\n",
              "      <td>45 minutes</td>\n",
              "    </tr>\n",
              "  </tbody>\n",
              "</table>\n",
              "</div>\n",
              "      <button class=\"colab-df-convert\" onclick=\"convertToInteractive('df-613146ca-5640-41d8-bfd5-a55eda0c4a0d')\"\n",
              "              title=\"Convert this dataframe to an interactive table.\"\n",
              "              style=\"display:none;\">\n",
              "        \n",
              "  <svg xmlns=\"http://www.w3.org/2000/svg\" height=\"24px\"viewBox=\"0 0 24 24\"\n",
              "       width=\"24px\">\n",
              "    <path d=\"M0 0h24v24H0V0z\" fill=\"none\"/>\n",
              "    <path d=\"M18.56 5.44l.94 2.06.94-2.06 2.06-.94-2.06-.94-.94-2.06-.94 2.06-2.06.94zm-11 1L8.5 8.5l.94-2.06 2.06-.94-2.06-.94L8.5 2.5l-.94 2.06-2.06.94zm10 10l.94 2.06.94-2.06 2.06-.94-2.06-.94-.94-2.06-.94 2.06-2.06.94z\"/><path d=\"M17.41 7.96l-1.37-1.37c-.4-.4-.92-.59-1.43-.59-.52 0-1.04.2-1.43.59L10.3 9.45l-7.72 7.72c-.78.78-.78 2.05 0 2.83L4 21.41c.39.39.9.59 1.41.59.51 0 1.02-.2 1.41-.59l7.78-7.78 2.81-2.81c.8-.78.8-2.07 0-2.86zM5.41 20L4 18.59l7.72-7.72 1.47 1.35L5.41 20z\"/>\n",
              "  </svg>\n",
              "      </button>\n",
              "      \n",
              "  <style>\n",
              "    .colab-df-container {\n",
              "      display:flex;\n",
              "      flex-wrap:wrap;\n",
              "      gap: 12px;\n",
              "    }\n",
              "\n",
              "    .colab-df-convert {\n",
              "      background-color: #E8F0FE;\n",
              "      border: none;\n",
              "      border-radius: 50%;\n",
              "      cursor: pointer;\n",
              "      display: none;\n",
              "      fill: #1967D2;\n",
              "      height: 32px;\n",
              "      padding: 0 0 0 0;\n",
              "      width: 32px;\n",
              "    }\n",
              "\n",
              "    .colab-df-convert:hover {\n",
              "      background-color: #E2EBFA;\n",
              "      box-shadow: 0px 1px 2px rgba(60, 64, 67, 0.3), 0px 1px 3px 1px rgba(60, 64, 67, 0.15);\n",
              "      fill: #174EA6;\n",
              "    }\n",
              "\n",
              "    [theme=dark] .colab-df-convert {\n",
              "      background-color: #3B4455;\n",
              "      fill: #D2E3FC;\n",
              "    }\n",
              "\n",
              "    [theme=dark] .colab-df-convert:hover {\n",
              "      background-color: #434B5C;\n",
              "      box-shadow: 0px 1px 3px 1px rgba(0, 0, 0, 0.15);\n",
              "      filter: drop-shadow(0px 1px 2px rgba(0, 0, 0, 0.3));\n",
              "      fill: #FFFFFF;\n",
              "    }\n",
              "  </style>\n",
              "\n",
              "      <script>\n",
              "        const buttonEl =\n",
              "          document.querySelector('#df-613146ca-5640-41d8-bfd5-a55eda0c4a0d button.colab-df-convert');\n",
              "        buttonEl.style.display =\n",
              "          google.colab.kernel.accessAllowed ? 'block' : 'none';\n",
              "\n",
              "        async function convertToInteractive(key) {\n",
              "          const element = document.querySelector('#df-613146ca-5640-41d8-bfd5-a55eda0c4a0d');\n",
              "          const dataTable =\n",
              "            await google.colab.kernel.invokeFunction('convertToInteractive',\n",
              "                                                     [key], {});\n",
              "          if (!dataTable) return;\n",
              "\n",
              "          const docLinkHtml = 'Like what you see? Visit the ' +\n",
              "            '<a target=\"_blank\" href=https://colab.research.google.com/notebooks/data_table.ipynb>data table notebook</a>'\n",
              "            + ' to learn more about interactive tables.';\n",
              "          element.innerHTML = '';\n",
              "          dataTable['output_type'] = 'display_data';\n",
              "          await google.colab.output.renderOutput(dataTable, element);\n",
              "          const docLink = document.createElement('div');\n",
              "          docLink.innerHTML = docLinkHtml;\n",
              "          element.appendChild(docLink);\n",
              "        }\n",
              "      </script>\n",
              "    </div>\n",
              "  </div>\n",
              "  "
            ]
          },
          "metadata": {},
          "execution_count": 22
        }
      ]
    },
    {
      "cell_type": "code",
      "metadata": {
        "id": "tqNZCFbcm15K",
        "outputId": "b3e35fa5-b013-4600-a68d-060282b80e19",
        "colab": {
          "base_uri": "https://localhost:8080/"
        }
      },
      "source": [
        "#Finding the unique values in Average_Cost\n",
        "train['Average_Cost'].unique()"
      ],
      "execution_count": null,
      "outputs": [
        {
          "output_type": "execute_result",
          "data": {
            "text/plain": [
              "array(['₹200', '₹100', '₹650', '₹250', '₹400', '₹150', '₹50', '₹600',\n",
              "       '₹300', '₹350', '₹500', '₹450', '₹850', '₹750', '₹1,000', '₹700',\n",
              "       '₹800', '₹550', '₹1,200', '₹900', 'for', '₹950', '₹1,150'],\n",
              "      dtype=object)"
            ]
          },
          "metadata": {},
          "execution_count": 23
        }
      ]
    },
    {
      "cell_type": "markdown",
      "metadata": {
        "id": "XCtKvvfUTRqn"
      },
      "source": [
        "The Average_Cost has an invalid value in one of its rows. We will replace it with 200 which is the most frequent value in the column.(Check the train.describe() method). We will add 200 as a string and not as an integer as the column is of type object and all its values are strings."
      ]
    },
    {
      "cell_type": "code",
      "metadata": {
        "id": "9eFmcCodty24",
        "outputId": "8c2463cc-6a4d-4f3c-88bb-d41360b3e627",
        "colab": {
          "base_uri": "https://localhost:8080/",
          "height": 81
        }
      },
      "source": [
        "train[train['Average_Cost'] == 'for']"
      ],
      "execution_count": null,
      "outputs": [
        {
          "output_type": "execute_result",
          "data": {
            "text/plain": [
              "     Restaurant         Location   Cuisines Average_Cost Minimum_Order Rating  \\\n",
              "2102    ID_6472  Pune University  Fast Food          for           ₹50    NEW   \n",
              "\n",
              "     Votes Reviews Delivery_Time  \n",
              "2102     -       -    30 minutes  "
            ],
            "text/html": [
              "\n",
              "  <div id=\"df-6fbcbbee-c945-49cc-b716-74cd4c75d90d\">\n",
              "    <div class=\"colab-df-container\">\n",
              "      <div>\n",
              "<style scoped>\n",
              "    .dataframe tbody tr th:only-of-type {\n",
              "        vertical-align: middle;\n",
              "    }\n",
              "\n",
              "    .dataframe tbody tr th {\n",
              "        vertical-align: top;\n",
              "    }\n",
              "\n",
              "    .dataframe thead th {\n",
              "        text-align: right;\n",
              "    }\n",
              "</style>\n",
              "<table border=\"1\" class=\"dataframe\">\n",
              "  <thead>\n",
              "    <tr style=\"text-align: right;\">\n",
              "      <th></th>\n",
              "      <th>Restaurant</th>\n",
              "      <th>Location</th>\n",
              "      <th>Cuisines</th>\n",
              "      <th>Average_Cost</th>\n",
              "      <th>Minimum_Order</th>\n",
              "      <th>Rating</th>\n",
              "      <th>Votes</th>\n",
              "      <th>Reviews</th>\n",
              "      <th>Delivery_Time</th>\n",
              "    </tr>\n",
              "  </thead>\n",
              "  <tbody>\n",
              "    <tr>\n",
              "      <th>2102</th>\n",
              "      <td>ID_6472</td>\n",
              "      <td>Pune University</td>\n",
              "      <td>Fast Food</td>\n",
              "      <td>for</td>\n",
              "      <td>₹50</td>\n",
              "      <td>NEW</td>\n",
              "      <td>-</td>\n",
              "      <td>-</td>\n",
              "      <td>30 minutes</td>\n",
              "    </tr>\n",
              "  </tbody>\n",
              "</table>\n",
              "</div>\n",
              "      <button class=\"colab-df-convert\" onclick=\"convertToInteractive('df-6fbcbbee-c945-49cc-b716-74cd4c75d90d')\"\n",
              "              title=\"Convert this dataframe to an interactive table.\"\n",
              "              style=\"display:none;\">\n",
              "        \n",
              "  <svg xmlns=\"http://www.w3.org/2000/svg\" height=\"24px\"viewBox=\"0 0 24 24\"\n",
              "       width=\"24px\">\n",
              "    <path d=\"M0 0h24v24H0V0z\" fill=\"none\"/>\n",
              "    <path d=\"M18.56 5.44l.94 2.06.94-2.06 2.06-.94-2.06-.94-.94-2.06-.94 2.06-2.06.94zm-11 1L8.5 8.5l.94-2.06 2.06-.94-2.06-.94L8.5 2.5l-.94 2.06-2.06.94zm10 10l.94 2.06.94-2.06 2.06-.94-2.06-.94-.94-2.06-.94 2.06-2.06.94z\"/><path d=\"M17.41 7.96l-1.37-1.37c-.4-.4-.92-.59-1.43-.59-.52 0-1.04.2-1.43.59L10.3 9.45l-7.72 7.72c-.78.78-.78 2.05 0 2.83L4 21.41c.39.39.9.59 1.41.59.51 0 1.02-.2 1.41-.59l7.78-7.78 2.81-2.81c.8-.78.8-2.07 0-2.86zM5.41 20L4 18.59l7.72-7.72 1.47 1.35L5.41 20z\"/>\n",
              "  </svg>\n",
              "      </button>\n",
              "      \n",
              "  <style>\n",
              "    .colab-df-container {\n",
              "      display:flex;\n",
              "      flex-wrap:wrap;\n",
              "      gap: 12px;\n",
              "    }\n",
              "\n",
              "    .colab-df-convert {\n",
              "      background-color: #E8F0FE;\n",
              "      border: none;\n",
              "      border-radius: 50%;\n",
              "      cursor: pointer;\n",
              "      display: none;\n",
              "      fill: #1967D2;\n",
              "      height: 32px;\n",
              "      padding: 0 0 0 0;\n",
              "      width: 32px;\n",
              "    }\n",
              "\n",
              "    .colab-df-convert:hover {\n",
              "      background-color: #E2EBFA;\n",
              "      box-shadow: 0px 1px 2px rgba(60, 64, 67, 0.3), 0px 1px 3px 1px rgba(60, 64, 67, 0.15);\n",
              "      fill: #174EA6;\n",
              "    }\n",
              "\n",
              "    [theme=dark] .colab-df-convert {\n",
              "      background-color: #3B4455;\n",
              "      fill: #D2E3FC;\n",
              "    }\n",
              "\n",
              "    [theme=dark] .colab-df-convert:hover {\n",
              "      background-color: #434B5C;\n",
              "      box-shadow: 0px 1px 3px 1px rgba(0, 0, 0, 0.15);\n",
              "      filter: drop-shadow(0px 1px 2px rgba(0, 0, 0, 0.3));\n",
              "      fill: #FFFFFF;\n",
              "    }\n",
              "  </style>\n",
              "\n",
              "      <script>\n",
              "        const buttonEl =\n",
              "          document.querySelector('#df-6fbcbbee-c945-49cc-b716-74cd4c75d90d button.colab-df-convert');\n",
              "        buttonEl.style.display =\n",
              "          google.colab.kernel.accessAllowed ? 'block' : 'none';\n",
              "\n",
              "        async function convertToInteractive(key) {\n",
              "          const element = document.querySelector('#df-6fbcbbee-c945-49cc-b716-74cd4c75d90d');\n",
              "          const dataTable =\n",
              "            await google.colab.kernel.invokeFunction('convertToInteractive',\n",
              "                                                     [key], {});\n",
              "          if (!dataTable) return;\n",
              "\n",
              "          const docLinkHtml = 'Like what you see? Visit the ' +\n",
              "            '<a target=\"_blank\" href=https://colab.research.google.com/notebooks/data_table.ipynb>data table notebook</a>'\n",
              "            + ' to learn more about interactive tables.';\n",
              "          element.innerHTML = '';\n",
              "          dataTable['output_type'] = 'display_data';\n",
              "          await google.colab.output.renderOutput(dataTable, element);\n",
              "          const docLink = document.createElement('div');\n",
              "          docLink.innerHTML = docLinkHtml;\n",
              "          element.appendChild(docLink);\n",
              "        }\n",
              "      </script>\n",
              "    </div>\n",
              "  </div>\n",
              "  "
            ]
          },
          "metadata": {},
          "execution_count": 24
        }
      ]
    },
    {
      "cell_type": "code",
      "metadata": {
        "id": "YxAdTpeojHJF"
      },
      "source": [
        "#replacing 'for' with 200\n",
        "train['Average_Cost'].replace('for', '200', inplace = True)"
      ],
      "execution_count": null,
      "outputs": []
    },
    {
      "cell_type": "markdown",
      "metadata": {
        "id": "Mo-S0e7HT2T2"
      },
      "source": [
        "Now we will clean all the values and will convert it in to integer."
      ]
    },
    {
      "cell_type": "code",
      "metadata": {
        "id": "eoJghDs-OB-K"
      },
      "source": [
        "train['Average_Cost_Cleaned'] = train['Average_Cost'].apply(lambda x: int(re.sub(\"[^0-9]\", \"\", x)))"
      ],
      "execution_count": null,
      "outputs": []
    },
    {
      "cell_type": "code",
      "metadata": {
        "id": "H_POcn32wdck",
        "outputId": "cd6b28ed-20e3-4b0b-beeb-798c8ff8e137",
        "colab": {
          "base_uri": "https://localhost:8080/"
        }
      },
      "source": [
        "train['Average_Cost_Cleaned'].unique()"
      ],
      "execution_count": null,
      "outputs": [
        {
          "output_type": "execute_result",
          "data": {
            "text/plain": [
              "array([ 200,  100,  650,  250,  400,  150,   50,  600,  300,  350,  500,\n",
              "        450,  850,  750, 1000,  700,  800,  550, 1200,  900,  950, 1150])"
            ]
          },
          "metadata": {},
          "execution_count": 27
        }
      ]
    },
    {
      "cell_type": "markdown",
      "metadata": {
        "id": "iNlGUAMuUTye"
      },
      "source": [
        "We can see that all the special characters ahave been removed and strings have been converted to integers.\n",
        "\n",
        "---\n",
        "\n",
        "Let's perform the same operations on the test set\n"
      ]
    },
    {
      "cell_type": "code",
      "metadata": {
        "id": "wCZxzEqSOB8D",
        "outputId": "a798ecbb-9d34-4573-cb3f-fee682112e58",
        "colab": {
          "base_uri": "https://localhost:8080/"
        }
      },
      "source": [
        "test['Average_Cost'].unique()"
      ],
      "execution_count": null,
      "outputs": [
        {
          "output_type": "execute_result",
          "data": {
            "text/plain": [
              "array(['₹100', '₹200', '₹350', '₹50', '₹150', '₹650', '₹600', '₹300',\n",
              "       '₹500', '₹1,000', '₹400', '₹250', '₹450', '₹550', '₹800', '₹750',\n",
              "       '₹900', '₹1,100', '₹850', '₹1,200', '₹1,400', '₹2,050', '₹700'],\n",
              "      dtype=object)"
            ]
          },
          "metadata": {},
          "execution_count": 28
        }
      ]
    },
    {
      "cell_type": "code",
      "metadata": {
        "id": "Q4gYXWVhOB6S"
      },
      "source": [
        "test['Average_Cost_Cleaned'] = test['Average_Cost'].apply(lambda x: int(re.sub(\"[^0-9]\", \"\", x)))"
      ],
      "execution_count": null,
      "outputs": []
    },
    {
      "cell_type": "code",
      "metadata": {
        "id": "hmDLCsnVwoLi",
        "outputId": "e57b2a64-68d7-4e6e-ef54-b7fd2f65be33",
        "colab": {
          "base_uri": "https://localhost:8080/"
        }
      },
      "source": [
        "test['Average_Cost_Cleaned'].unique()"
      ],
      "execution_count": null,
      "outputs": [
        {
          "output_type": "execute_result",
          "data": {
            "text/plain": [
              "array([ 100,  200,  350,   50,  150,  650,  600,  300,  500, 1000,  400,\n",
              "        250,  450,  550,  800,  750,  900, 1100,  850, 1200, 1400, 2050,\n",
              "        700])"
            ]
          },
          "metadata": {},
          "execution_count": 30
        }
      ]
    },
    {
      "cell_type": "markdown",
      "metadata": {
        "id": "0TtRyWCAUwfC"
      },
      "source": [
        "Now lets do the same for Minimum_Order column"
      ]
    },
    {
      "cell_type": "code",
      "metadata": {
        "id": "XgKZKZYEJHdu",
        "outputId": "0c7d5171-d962-496a-a824-230286462730",
        "colab": {
          "base_uri": "https://localhost:8080/"
        }
      },
      "source": [
        "train['Minimum_Order'].unique()"
      ],
      "execution_count": null,
      "outputs": [
        {
          "output_type": "execute_result",
          "data": {
            "text/plain": [
              "array(['₹50', '₹99', '₹0', '₹350', '₹299', '₹199', '₹300', '₹200', '₹150',\n",
              "       '₹90', '₹89', '₹59', '₹450', '₹240', '₹79'], dtype=object)"
            ]
          },
          "metadata": {},
          "execution_count": 37
        }
      ]
    },
    {
      "cell_type": "code",
      "metadata": {
        "id": "P3a-jxJDUNXu"
      },
      "source": [
        "train['Minimum_Order_Cleaned'] = train['Minimum_Order'].apply(lambda x: int(re.sub(\"[^0-9]\", \"\", x)))"
      ],
      "execution_count": null,
      "outputs": []
    },
    {
      "cell_type": "code",
      "source": [
        "train['Minimum_Order_Cleaned'].unique()"
      ],
      "metadata": {
        "id": "pY2EDVRo1dsV",
        "colab": {
          "base_uri": "https://localhost:8080/"
        },
        "outputId": "b76123a0-f5d8-4b00-a232-804133d9f32e"
      },
      "execution_count": null,
      "outputs": [
        {
          "output_type": "execute_result",
          "data": {
            "text/plain": [
              "array([ 50,  99,   0, 350, 299, 199, 300, 200, 150,  90,  89,  59, 450,\n",
              "       240,  79])"
            ]
          },
          "metadata": {},
          "execution_count": 54
        }
      ]
    },
    {
      "cell_type": "code",
      "metadata": {
        "id": "2KZl-XPAUNV3",
        "outputId": "e5075b3a-8502-486b-b899-2866ce4ba7c3",
        "colab": {
          "base_uri": "https://localhost:8080/"
        }
      },
      "source": [
        "test['Minimum_Order'].unique()"
      ],
      "execution_count": null,
      "outputs": [
        {
          "output_type": "execute_result",
          "data": {
            "text/plain": [
              "array(['₹50', '₹99', '₹500', '₹0', '₹59', '₹300', '₹299', '₹250', '₹199',\n",
              "       '₹200', '₹400'], dtype=object)"
            ]
          },
          "metadata": {},
          "execution_count": 33
        }
      ]
    },
    {
      "cell_type": "code",
      "metadata": {
        "id": "uZMbJwFnUNTh"
      },
      "source": [
        "test['Minimum_Order_Cleaned'] = test['Minimum_Order'].apply(lambda x: int(re.sub(\"[^0-9]\", \"\", x)))"
      ],
      "execution_count": null,
      "outputs": []
    },
    {
      "cell_type": "code",
      "source": [
        "test['Minimum_Order_Cleaned'].unique()"
      ],
      "metadata": {
        "colab": {
          "base_uri": "https://localhost:8080/"
        },
        "id": "1V-soSpK243w",
        "outputId": "93d62dd0-9f55-4b24-e88d-22e0d55e8e40"
      },
      "execution_count": null,
      "outputs": [
        {
          "output_type": "execute_result",
          "data": {
            "text/plain": [
              "array([ 50,  99, 500,   0,  59, 300, 299, 250, 199, 200, 400])"
            ]
          },
          "metadata": {},
          "execution_count": 55
        }
      ]
    },
    {
      "cell_type": "code",
      "metadata": {
        "id": "NRddLSAzUNRu",
        "outputId": "8253354a-414b-46f0-a2a2-67fda0694ec9",
        "colab": {
          "base_uri": "https://localhost:8080/",
          "height": 302
        }
      },
      "source": [
        "train.head()"
      ],
      "execution_count": null,
      "outputs": [
        {
          "output_type": "execute_result",
          "data": {
            "text/plain": [
              "  Restaurant                              Location  \\\n",
              "0    ID_3744        Dockyard Road, Mumbai CST Area   \n",
              "1    ID_5984                          Delhi Cantt.   \n",
              "2      ID_13                         MG Road, Pune   \n",
              "3     ID_643  Delhi Administration Flats, Timarpur   \n",
              "4    ID_5754                       Pune University   \n",
              "\n",
              "                                            Cuisines Average_Cost  \\\n",
              "0                                 Fast Food, Chinese         ₹200   \n",
              "1                                       North Indian         ₹100   \n",
              "2  Continental, North Indian, Seafood, Cafe, Sala...         ₹650   \n",
              "3                                               Naga         ₹250   \n",
              "4                                   Pizza, Fast Food         ₹200   \n",
              "\n",
              "  Minimum_Order Rating Votes Reviews Delivery_Time  Average_Cost_Cleaned  \\\n",
              "0           ₹50    3.8    91      44    45 minutes                   200   \n",
              "1           ₹50    2.9    37      16    30 minutes                   100   \n",
              "2           ₹50    4.1  3860    1962    45 minutes                   650   \n",
              "3           ₹50    3.9   313     119    45 minutes                   250   \n",
              "4           ₹50    3.3    86      48    45 minutes                   200   \n",
              "\n",
              "   Minimum_Order_Cleaned  \n",
              "0                     50  \n",
              "1                     50  \n",
              "2                     50  \n",
              "3                     50  \n",
              "4                     50  "
            ],
            "text/html": [
              "\n",
              "  <div id=\"df-94c836c9-8ae5-4cc6-a56b-a65262bd5042\">\n",
              "    <div class=\"colab-df-container\">\n",
              "      <div>\n",
              "<style scoped>\n",
              "    .dataframe tbody tr th:only-of-type {\n",
              "        vertical-align: middle;\n",
              "    }\n",
              "\n",
              "    .dataframe tbody tr th {\n",
              "        vertical-align: top;\n",
              "    }\n",
              "\n",
              "    .dataframe thead th {\n",
              "        text-align: right;\n",
              "    }\n",
              "</style>\n",
              "<table border=\"1\" class=\"dataframe\">\n",
              "  <thead>\n",
              "    <tr style=\"text-align: right;\">\n",
              "      <th></th>\n",
              "      <th>Restaurant</th>\n",
              "      <th>Location</th>\n",
              "      <th>Cuisines</th>\n",
              "      <th>Average_Cost</th>\n",
              "      <th>Minimum_Order</th>\n",
              "      <th>Rating</th>\n",
              "      <th>Votes</th>\n",
              "      <th>Reviews</th>\n",
              "      <th>Delivery_Time</th>\n",
              "      <th>Average_Cost_Cleaned</th>\n",
              "      <th>Minimum_Order_Cleaned</th>\n",
              "    </tr>\n",
              "  </thead>\n",
              "  <tbody>\n",
              "    <tr>\n",
              "      <th>0</th>\n",
              "      <td>ID_3744</td>\n",
              "      <td>Dockyard Road, Mumbai CST Area</td>\n",
              "      <td>Fast Food, Chinese</td>\n",
              "      <td>₹200</td>\n",
              "      <td>₹50</td>\n",
              "      <td>3.8</td>\n",
              "      <td>91</td>\n",
              "      <td>44</td>\n",
              "      <td>45 minutes</td>\n",
              "      <td>200</td>\n",
              "      <td>50</td>\n",
              "    </tr>\n",
              "    <tr>\n",
              "      <th>1</th>\n",
              "      <td>ID_5984</td>\n",
              "      <td>Delhi Cantt.</td>\n",
              "      <td>North Indian</td>\n",
              "      <td>₹100</td>\n",
              "      <td>₹50</td>\n",
              "      <td>2.9</td>\n",
              "      <td>37</td>\n",
              "      <td>16</td>\n",
              "      <td>30 minutes</td>\n",
              "      <td>100</td>\n",
              "      <td>50</td>\n",
              "    </tr>\n",
              "    <tr>\n",
              "      <th>2</th>\n",
              "      <td>ID_13</td>\n",
              "      <td>MG Road, Pune</td>\n",
              "      <td>Continental, North Indian, Seafood, Cafe, Sala...</td>\n",
              "      <td>₹650</td>\n",
              "      <td>₹50</td>\n",
              "      <td>4.1</td>\n",
              "      <td>3860</td>\n",
              "      <td>1962</td>\n",
              "      <td>45 minutes</td>\n",
              "      <td>650</td>\n",
              "      <td>50</td>\n",
              "    </tr>\n",
              "    <tr>\n",
              "      <th>3</th>\n",
              "      <td>ID_643</td>\n",
              "      <td>Delhi Administration Flats, Timarpur</td>\n",
              "      <td>Naga</td>\n",
              "      <td>₹250</td>\n",
              "      <td>₹50</td>\n",
              "      <td>3.9</td>\n",
              "      <td>313</td>\n",
              "      <td>119</td>\n",
              "      <td>45 minutes</td>\n",
              "      <td>250</td>\n",
              "      <td>50</td>\n",
              "    </tr>\n",
              "    <tr>\n",
              "      <th>4</th>\n",
              "      <td>ID_5754</td>\n",
              "      <td>Pune University</td>\n",
              "      <td>Pizza, Fast Food</td>\n",
              "      <td>₹200</td>\n",
              "      <td>₹50</td>\n",
              "      <td>3.3</td>\n",
              "      <td>86</td>\n",
              "      <td>48</td>\n",
              "      <td>45 minutes</td>\n",
              "      <td>200</td>\n",
              "      <td>50</td>\n",
              "    </tr>\n",
              "  </tbody>\n",
              "</table>\n",
              "</div>\n",
              "      <button class=\"colab-df-convert\" onclick=\"convertToInteractive('df-94c836c9-8ae5-4cc6-a56b-a65262bd5042')\"\n",
              "              title=\"Convert this dataframe to an interactive table.\"\n",
              "              style=\"display:none;\">\n",
              "        \n",
              "  <svg xmlns=\"http://www.w3.org/2000/svg\" height=\"24px\"viewBox=\"0 0 24 24\"\n",
              "       width=\"24px\">\n",
              "    <path d=\"M0 0h24v24H0V0z\" fill=\"none\"/>\n",
              "    <path d=\"M18.56 5.44l.94 2.06.94-2.06 2.06-.94-2.06-.94-.94-2.06-.94 2.06-2.06.94zm-11 1L8.5 8.5l.94-2.06 2.06-.94-2.06-.94L8.5 2.5l-.94 2.06-2.06.94zm10 10l.94 2.06.94-2.06 2.06-.94-2.06-.94-.94-2.06-.94 2.06-2.06.94z\"/><path d=\"M17.41 7.96l-1.37-1.37c-.4-.4-.92-.59-1.43-.59-.52 0-1.04.2-1.43.59L10.3 9.45l-7.72 7.72c-.78.78-.78 2.05 0 2.83L4 21.41c.39.39.9.59 1.41.59.51 0 1.02-.2 1.41-.59l7.78-7.78 2.81-2.81c.8-.78.8-2.07 0-2.86zM5.41 20L4 18.59l7.72-7.72 1.47 1.35L5.41 20z\"/>\n",
              "  </svg>\n",
              "      </button>\n",
              "      \n",
              "  <style>\n",
              "    .colab-df-container {\n",
              "      display:flex;\n",
              "      flex-wrap:wrap;\n",
              "      gap: 12px;\n",
              "    }\n",
              "\n",
              "    .colab-df-convert {\n",
              "      background-color: #E8F0FE;\n",
              "      border: none;\n",
              "      border-radius: 50%;\n",
              "      cursor: pointer;\n",
              "      display: none;\n",
              "      fill: #1967D2;\n",
              "      height: 32px;\n",
              "      padding: 0 0 0 0;\n",
              "      width: 32px;\n",
              "    }\n",
              "\n",
              "    .colab-df-convert:hover {\n",
              "      background-color: #E2EBFA;\n",
              "      box-shadow: 0px 1px 2px rgba(60, 64, 67, 0.3), 0px 1px 3px 1px rgba(60, 64, 67, 0.15);\n",
              "      fill: #174EA6;\n",
              "    }\n",
              "\n",
              "    [theme=dark] .colab-df-convert {\n",
              "      background-color: #3B4455;\n",
              "      fill: #D2E3FC;\n",
              "    }\n",
              "\n",
              "    [theme=dark] .colab-df-convert:hover {\n",
              "      background-color: #434B5C;\n",
              "      box-shadow: 0px 1px 3px 1px rgba(0, 0, 0, 0.15);\n",
              "      filter: drop-shadow(0px 1px 2px rgba(0, 0, 0, 0.3));\n",
              "      fill: #FFFFFF;\n",
              "    }\n",
              "  </style>\n",
              "\n",
              "      <script>\n",
              "        const buttonEl =\n",
              "          document.querySelector('#df-94c836c9-8ae5-4cc6-a56b-a65262bd5042 button.colab-df-convert');\n",
              "        buttonEl.style.display =\n",
              "          google.colab.kernel.accessAllowed ? 'block' : 'none';\n",
              "\n",
              "        async function convertToInteractive(key) {\n",
              "          const element = document.querySelector('#df-94c836c9-8ae5-4cc6-a56b-a65262bd5042');\n",
              "          const dataTable =\n",
              "            await google.colab.kernel.invokeFunction('convertToInteractive',\n",
              "                                                     [key], {});\n",
              "          if (!dataTable) return;\n",
              "\n",
              "          const docLinkHtml = 'Like what you see? Visit the ' +\n",
              "            '<a target=\"_blank\" href=https://colab.research.google.com/notebooks/data_table.ipynb>data table notebook</a>'\n",
              "            + ' to learn more about interactive tables.';\n",
              "          element.innerHTML = '';\n",
              "          dataTable['output_type'] = 'display_data';\n",
              "          await google.colab.output.renderOutput(dataTable, element);\n",
              "          const docLink = document.createElement('div');\n",
              "          docLink.innerHTML = docLinkHtml;\n",
              "          element.appendChild(docLink);\n",
              "        }\n",
              "      </script>\n",
              "    </div>\n",
              "  </div>\n",
              "  "
            ]
          },
          "metadata": {},
          "execution_count": 42
        }
      ]
    },
    {
      "cell_type": "markdown",
      "metadata": {
        "id": "Hjn_pdlpBD8w"
      },
      "source": [
        "####Location & CUISINES"
      ]
    },
    {
      "cell_type": "markdown",
      "metadata": {
        "id": "1S2LHft5U9YN"
      },
      "source": [
        "Location and Cuisines are categorical variables that need to be encoded later. By looking at the dataset, we can see that each of these columns have multiple values in them. We can use each of them as a feature by splitting each column into n number of features.\n",
        "To do that we will first find the maximum number(n) of features a column has in the entire dataset including both test and train data. Once the maximum number of features within a cell is found, we will split all the rows in the dataset for that specific column into n features.\n"
      ]
    },
    {
      "cell_type": "code",
      "metadata": {
        "id": "TlVQYHp0Sldz"
      },
      "source": [
        "#A function to find the maximun number of features in a single cell\n",
        "def max_features_in_single_row(train, test, delimiter):\n",
        "  max_info = 0\n",
        "  item_lis = list(train.append(test))\n",
        "  for i in item_lis:\n",
        "    if len(i.split(\"{}\".format(delimiter))) > max_info:\n",
        "      max_info = len(i.split(\"{}\".format(delimiter)))\n",
        "  print(\"\\n\",\"-\"*35)\n",
        "  print(\"Max_Features in One Observation = \", max_info)\n",
        "  return max_info"
      ],
      "execution_count": null,
      "outputs": []
    },
    {
      "cell_type": "code",
      "metadata": {
        "id": "3eNvsPsPlVjZ"
      },
      "source": [
        "#This function splits a column in to n features where n is the maximum number of features in a single cell\n",
        "def feature_splitter(feat, name, delimiter, max_info):\n",
        "  item_lis = list(feat)\n",
        "  extracted_features = {}\n",
        "\n",
        "  for i in range(max_info):\n",
        "    extracted_features['{}_Feature_{}'.format(name, i+1)] = []\n",
        "\n",
        "  print(\"-\"*35)\n",
        "  print(\"Features Dictionary : \", extracted_features)\n",
        "\n",
        "  for i in tqdm(range(len(item_lis))):\n",
        "    for j in range(max_info):\n",
        "      try:\n",
        "        extracted_features['{}_Feature_{}'.format(name,j+1)].append(item_lis[i].split(\"{}\".format(delimiter))[j].lower().strip())\n",
        "      except:\n",
        "        extracted_features['{}_Feature_{}'.format(name, j+1)].append(np.nan)\n",
        "\n",
        "\n",
        "  return extracted_features\n"
      ],
      "execution_count": null,
      "outputs": []
    },
    {
      "cell_type": "code",
      "metadata": {
        "id": "hIgyWIdKNiXi",
        "outputId": "e5bc6e35-0f58-467a-e432-7f2f377560c4",
        "colab": {
          "base_uri": "https://localhost:8080/"
        }
      },
      "source": [
        "#Splitting Location\n",
        "loc_max = max_features_in_single_row(test['Location'],train['Location'], ',')\n",
        "train_Location_splits = feature_splitter(train['Location'], 'Location', ',', loc_max)\n",
        "test_Location_splits = feature_splitter(test['Location'], 'Location', ',', loc_max)\n"
      ],
      "execution_count": null,
      "outputs": [
        {
          "output_type": "stream",
          "name": "stderr",
          "text": [
            "<ipython-input-43-3aee722869f5>:4: FutureWarning: The series.append method is deprecated and will be removed from pandas in a future version. Use pandas.concat instead.\n",
            "  item_lis = list(train.append(test))\n"
          ]
        },
        {
          "output_type": "stream",
          "name": "stdout",
          "text": [
            "\n",
            " -----------------------------------\n",
            "Max_Features in One Observation =  4\n",
            "-----------------------------------\n",
            "Features Dictionary :  {'Location_Feature_1': [], 'Location_Feature_2': [], 'Location_Feature_3': [], 'Location_Feature_4': []}\n"
          ]
        },
        {
          "output_type": "stream",
          "name": "stderr",
          "text": [
            "100%|██████████| 8875/8875 [00:00<00:00, 251246.62it/s]\n"
          ]
        },
        {
          "output_type": "stream",
          "name": "stdout",
          "text": [
            "-----------------------------------\n",
            "Features Dictionary :  {'Location_Feature_1': [], 'Location_Feature_2': [], 'Location_Feature_3': [], 'Location_Feature_4': []}\n"
          ]
        },
        {
          "output_type": "stream",
          "name": "stderr",
          "text": [
            "100%|██████████| 2219/2219 [00:00<00:00, 201375.23it/s]\n"
          ]
        }
      ]
    },
    {
      "cell_type": "code",
      "metadata": {
        "id": "KqcwdG_gkCPa",
        "outputId": "ccdbc529-4411-49fd-c8f8-11f89d767249",
        "colab": {
          "base_uri": "https://localhost:8080/"
        }
      },
      "source": [
        "#Splitting Cuisines\n",
        "cus_max = max_features_in_single_row(test['Cuisines'],train['Cuisines'], ',')\n",
        "train_Cuisines_splits = feature_splitter(train['Cuisines'], 'Cuisines', ',', cus_max)\n",
        "test_Cuisines_splits = feature_splitter(test['Cuisines'], 'Cuisines', ',', cus_max)"
      ],
      "execution_count": null,
      "outputs": [
        {
          "output_type": "stream",
          "name": "stderr",
          "text": [
            "<ipython-input-43-3aee722869f5>:4: FutureWarning: The series.append method is deprecated and will be removed from pandas in a future version. Use pandas.concat instead.\n",
            "  item_lis = list(train.append(test))\n"
          ]
        },
        {
          "output_type": "stream",
          "name": "stdout",
          "text": [
            "\n",
            " -----------------------------------\n",
            "Max_Features in One Observation =  8\n",
            "-----------------------------------\n",
            "Features Dictionary :  {'Cuisines_Feature_1': [], 'Cuisines_Feature_2': [], 'Cuisines_Feature_3': [], 'Cuisines_Feature_4': [], 'Cuisines_Feature_5': [], 'Cuisines_Feature_6': [], 'Cuisines_Feature_7': [], 'Cuisines_Feature_8': []}\n"
          ]
        },
        {
          "output_type": "stream",
          "name": "stderr",
          "text": [
            "100%|██████████| 8875/8875 [00:00<00:00, 114908.00it/s]\n"
          ]
        },
        {
          "output_type": "stream",
          "name": "stdout",
          "text": [
            "-----------------------------------\n",
            "Features Dictionary :  {'Cuisines_Feature_1': [], 'Cuisines_Feature_2': [], 'Cuisines_Feature_3': [], 'Cuisines_Feature_4': [], 'Cuisines_Feature_5': [], 'Cuisines_Feature_6': [], 'Cuisines_Feature_7': [], 'Cuisines_Feature_8': []}\n"
          ]
        },
        {
          "output_type": "stream",
          "name": "stderr",
          "text": [
            "100%|██████████| 2219/2219 [00:00<00:00, 89283.31it/s]\n"
          ]
        }
      ]
    },
    {
      "cell_type": "markdown",
      "metadata": {
        "id": "telTCWSRUvZp"
      },
      "source": [
        "####Rating, Votes & Reviews"
      ]
    },
    {
      "cell_type": "markdown",
      "metadata": {
        "id": "br9VvuoNW0nB"
      },
      "source": [
        "We will now clean Rating, Votes & Reviews columns to remove invalid values and to convert them to the right type."
      ]
    },
    {
      "cell_type": "code",
      "metadata": {
        "id": "pdSxC7iJVJVA",
        "outputId": "55287c90-cac2-47c4-af97-339b1069edbf",
        "colab": {
          "base_uri": "https://localhost:8080/",
          "height": 456
        }
      },
      "source": [
        "train.describe(include = 'all')"
      ],
      "execution_count": null,
      "outputs": [
        {
          "output_type": "execute_result",
          "data": {
            "text/plain": [
              "       Restaurant                                    Location      Cuisines  \\\n",
              "count        8875                                        8875          8875   \n",
              "unique       6363                                          35          1920   \n",
              "top       ID_4625  Mico Layout, Stage 2, BTM Layout,Bangalore  North Indian   \n",
              "freq           16                                         753           681   \n",
              "mean          NaN                                         NaN           NaN   \n",
              "std           NaN                                         NaN           NaN   \n",
              "min           NaN                                         NaN           NaN   \n",
              "25%           NaN                                         NaN           NaN   \n",
              "50%           NaN                                         NaN           NaN   \n",
              "75%           NaN                                         NaN           NaN   \n",
              "max           NaN                                         NaN           NaN   \n",
              "\n",
              "       Average_Cost Minimum_Order Rating Votes Reviews Delivery_Time  \\\n",
              "count          8875          8875   8875  8875    8875          8875   \n",
              "unique           23            15     33  1024     711             7   \n",
              "top            ₹200           ₹50      -     -       -    30 minutes   \n",
              "freq           2594          8115    961  1676    1859          5919   \n",
              "mean            NaN           NaN    NaN   NaN     NaN           NaN   \n",
              "std             NaN           NaN    NaN   NaN     NaN           NaN   \n",
              "min             NaN           NaN    NaN   NaN     NaN           NaN   \n",
              "25%             NaN           NaN    NaN   NaN     NaN           NaN   \n",
              "50%             NaN           NaN    NaN   NaN     NaN           NaN   \n",
              "75%             NaN           NaN    NaN   NaN     NaN           NaN   \n",
              "max             NaN           NaN    NaN   NaN     NaN           NaN   \n",
              "\n",
              "        Average_Cost_Cleaned  Minimum_Order_Cleaned  \n",
              "count            8875.000000            8875.000000  \n",
              "unique                   NaN                    NaN  \n",
              "top                      NaN                    NaN  \n",
              "freq                     NaN                    NaN  \n",
              "mean              203.059155              53.219155  \n",
              "std               128.385830              17.803072  \n",
              "min                50.000000               0.000000  \n",
              "25%               100.000000              50.000000  \n",
              "50%               200.000000              50.000000  \n",
              "75%               200.000000              50.000000  \n",
              "max              1200.000000             450.000000  "
            ],
            "text/html": [
              "\n",
              "  <div id=\"df-69b13def-48a4-4aa1-aebe-b601ce11d8ac\">\n",
              "    <div class=\"colab-df-container\">\n",
              "      <div>\n",
              "<style scoped>\n",
              "    .dataframe tbody tr th:only-of-type {\n",
              "        vertical-align: middle;\n",
              "    }\n",
              "\n",
              "    .dataframe tbody tr th {\n",
              "        vertical-align: top;\n",
              "    }\n",
              "\n",
              "    .dataframe thead th {\n",
              "        text-align: right;\n",
              "    }\n",
              "</style>\n",
              "<table border=\"1\" class=\"dataframe\">\n",
              "  <thead>\n",
              "    <tr style=\"text-align: right;\">\n",
              "      <th></th>\n",
              "      <th>Restaurant</th>\n",
              "      <th>Location</th>\n",
              "      <th>Cuisines</th>\n",
              "      <th>Average_Cost</th>\n",
              "      <th>Minimum_Order</th>\n",
              "      <th>Rating</th>\n",
              "      <th>Votes</th>\n",
              "      <th>Reviews</th>\n",
              "      <th>Delivery_Time</th>\n",
              "      <th>Average_Cost_Cleaned</th>\n",
              "      <th>Minimum_Order_Cleaned</th>\n",
              "    </tr>\n",
              "  </thead>\n",
              "  <tbody>\n",
              "    <tr>\n",
              "      <th>count</th>\n",
              "      <td>8875</td>\n",
              "      <td>8875</td>\n",
              "      <td>8875</td>\n",
              "      <td>8875</td>\n",
              "      <td>8875</td>\n",
              "      <td>8875</td>\n",
              "      <td>8875</td>\n",
              "      <td>8875</td>\n",
              "      <td>8875</td>\n",
              "      <td>8875.000000</td>\n",
              "      <td>8875.000000</td>\n",
              "    </tr>\n",
              "    <tr>\n",
              "      <th>unique</th>\n",
              "      <td>6363</td>\n",
              "      <td>35</td>\n",
              "      <td>1920</td>\n",
              "      <td>23</td>\n",
              "      <td>15</td>\n",
              "      <td>33</td>\n",
              "      <td>1024</td>\n",
              "      <td>711</td>\n",
              "      <td>7</td>\n",
              "      <td>NaN</td>\n",
              "      <td>NaN</td>\n",
              "    </tr>\n",
              "    <tr>\n",
              "      <th>top</th>\n",
              "      <td>ID_4625</td>\n",
              "      <td>Mico Layout, Stage 2, BTM Layout,Bangalore</td>\n",
              "      <td>North Indian</td>\n",
              "      <td>₹200</td>\n",
              "      <td>₹50</td>\n",
              "      <td>-</td>\n",
              "      <td>-</td>\n",
              "      <td>-</td>\n",
              "      <td>30 minutes</td>\n",
              "      <td>NaN</td>\n",
              "      <td>NaN</td>\n",
              "    </tr>\n",
              "    <tr>\n",
              "      <th>freq</th>\n",
              "      <td>16</td>\n",
              "      <td>753</td>\n",
              "      <td>681</td>\n",
              "      <td>2594</td>\n",
              "      <td>8115</td>\n",
              "      <td>961</td>\n",
              "      <td>1676</td>\n",
              "      <td>1859</td>\n",
              "      <td>5919</td>\n",
              "      <td>NaN</td>\n",
              "      <td>NaN</td>\n",
              "    </tr>\n",
              "    <tr>\n",
              "      <th>mean</th>\n",
              "      <td>NaN</td>\n",
              "      <td>NaN</td>\n",
              "      <td>NaN</td>\n",
              "      <td>NaN</td>\n",
              "      <td>NaN</td>\n",
              "      <td>NaN</td>\n",
              "      <td>NaN</td>\n",
              "      <td>NaN</td>\n",
              "      <td>NaN</td>\n",
              "      <td>203.059155</td>\n",
              "      <td>53.219155</td>\n",
              "    </tr>\n",
              "    <tr>\n",
              "      <th>std</th>\n",
              "      <td>NaN</td>\n",
              "      <td>NaN</td>\n",
              "      <td>NaN</td>\n",
              "      <td>NaN</td>\n",
              "      <td>NaN</td>\n",
              "      <td>NaN</td>\n",
              "      <td>NaN</td>\n",
              "      <td>NaN</td>\n",
              "      <td>NaN</td>\n",
              "      <td>128.385830</td>\n",
              "      <td>17.803072</td>\n",
              "    </tr>\n",
              "    <tr>\n",
              "      <th>min</th>\n",
              "      <td>NaN</td>\n",
              "      <td>NaN</td>\n",
              "      <td>NaN</td>\n",
              "      <td>NaN</td>\n",
              "      <td>NaN</td>\n",
              "      <td>NaN</td>\n",
              "      <td>NaN</td>\n",
              "      <td>NaN</td>\n",
              "      <td>NaN</td>\n",
              "      <td>50.000000</td>\n",
              "      <td>0.000000</td>\n",
              "    </tr>\n",
              "    <tr>\n",
              "      <th>25%</th>\n",
              "      <td>NaN</td>\n",
              "      <td>NaN</td>\n",
              "      <td>NaN</td>\n",
              "      <td>NaN</td>\n",
              "      <td>NaN</td>\n",
              "      <td>NaN</td>\n",
              "      <td>NaN</td>\n",
              "      <td>NaN</td>\n",
              "      <td>NaN</td>\n",
              "      <td>100.000000</td>\n",
              "      <td>50.000000</td>\n",
              "    </tr>\n",
              "    <tr>\n",
              "      <th>50%</th>\n",
              "      <td>NaN</td>\n",
              "      <td>NaN</td>\n",
              "      <td>NaN</td>\n",
              "      <td>NaN</td>\n",
              "      <td>NaN</td>\n",
              "      <td>NaN</td>\n",
              "      <td>NaN</td>\n",
              "      <td>NaN</td>\n",
              "      <td>NaN</td>\n",
              "      <td>200.000000</td>\n",
              "      <td>50.000000</td>\n",
              "    </tr>\n",
              "    <tr>\n",
              "      <th>75%</th>\n",
              "      <td>NaN</td>\n",
              "      <td>NaN</td>\n",
              "      <td>NaN</td>\n",
              "      <td>NaN</td>\n",
              "      <td>NaN</td>\n",
              "      <td>NaN</td>\n",
              "      <td>NaN</td>\n",
              "      <td>NaN</td>\n",
              "      <td>NaN</td>\n",
              "      <td>200.000000</td>\n",
              "      <td>50.000000</td>\n",
              "    </tr>\n",
              "    <tr>\n",
              "      <th>max</th>\n",
              "      <td>NaN</td>\n",
              "      <td>NaN</td>\n",
              "      <td>NaN</td>\n",
              "      <td>NaN</td>\n",
              "      <td>NaN</td>\n",
              "      <td>NaN</td>\n",
              "      <td>NaN</td>\n",
              "      <td>NaN</td>\n",
              "      <td>NaN</td>\n",
              "      <td>1200.000000</td>\n",
              "      <td>450.000000</td>\n",
              "    </tr>\n",
              "  </tbody>\n",
              "</table>\n",
              "</div>\n",
              "      <button class=\"colab-df-convert\" onclick=\"convertToInteractive('df-69b13def-48a4-4aa1-aebe-b601ce11d8ac')\"\n",
              "              title=\"Convert this dataframe to an interactive table.\"\n",
              "              style=\"display:none;\">\n",
              "        \n",
              "  <svg xmlns=\"http://www.w3.org/2000/svg\" height=\"24px\"viewBox=\"0 0 24 24\"\n",
              "       width=\"24px\">\n",
              "    <path d=\"M0 0h24v24H0V0z\" fill=\"none\"/>\n",
              "    <path d=\"M18.56 5.44l.94 2.06.94-2.06 2.06-.94-2.06-.94-.94-2.06-.94 2.06-2.06.94zm-11 1L8.5 8.5l.94-2.06 2.06-.94-2.06-.94L8.5 2.5l-.94 2.06-2.06.94zm10 10l.94 2.06.94-2.06 2.06-.94-2.06-.94-.94-2.06-.94 2.06-2.06.94z\"/><path d=\"M17.41 7.96l-1.37-1.37c-.4-.4-.92-.59-1.43-.59-.52 0-1.04.2-1.43.59L10.3 9.45l-7.72 7.72c-.78.78-.78 2.05 0 2.83L4 21.41c.39.39.9.59 1.41.59.51 0 1.02-.2 1.41-.59l7.78-7.78 2.81-2.81c.8-.78.8-2.07 0-2.86zM5.41 20L4 18.59l7.72-7.72 1.47 1.35L5.41 20z\"/>\n",
              "  </svg>\n",
              "      </button>\n",
              "      \n",
              "  <style>\n",
              "    .colab-df-container {\n",
              "      display:flex;\n",
              "      flex-wrap:wrap;\n",
              "      gap: 12px;\n",
              "    }\n",
              "\n",
              "    .colab-df-convert {\n",
              "      background-color: #E8F0FE;\n",
              "      border: none;\n",
              "      border-radius: 50%;\n",
              "      cursor: pointer;\n",
              "      display: none;\n",
              "      fill: #1967D2;\n",
              "      height: 32px;\n",
              "      padding: 0 0 0 0;\n",
              "      width: 32px;\n",
              "    }\n",
              "\n",
              "    .colab-df-convert:hover {\n",
              "      background-color: #E2EBFA;\n",
              "      box-shadow: 0px 1px 2px rgba(60, 64, 67, 0.3), 0px 1px 3px 1px rgba(60, 64, 67, 0.15);\n",
              "      fill: #174EA6;\n",
              "    }\n",
              "\n",
              "    [theme=dark] .colab-df-convert {\n",
              "      background-color: #3B4455;\n",
              "      fill: #D2E3FC;\n",
              "    }\n",
              "\n",
              "    [theme=dark] .colab-df-convert:hover {\n",
              "      background-color: #434B5C;\n",
              "      box-shadow: 0px 1px 3px 1px rgba(0, 0, 0, 0.15);\n",
              "      filter: drop-shadow(0px 1px 2px rgba(0, 0, 0, 0.3));\n",
              "      fill: #FFFFFF;\n",
              "    }\n",
              "  </style>\n",
              "\n",
              "      <script>\n",
              "        const buttonEl =\n",
              "          document.querySelector('#df-69b13def-48a4-4aa1-aebe-b601ce11d8ac button.colab-df-convert');\n",
              "        buttonEl.style.display =\n",
              "          google.colab.kernel.accessAllowed ? 'block' : 'none';\n",
              "\n",
              "        async function convertToInteractive(key) {\n",
              "          const element = document.querySelector('#df-69b13def-48a4-4aa1-aebe-b601ce11d8ac');\n",
              "          const dataTable =\n",
              "            await google.colab.kernel.invokeFunction('convertToInteractive',\n",
              "                                                     [key], {});\n",
              "          if (!dataTable) return;\n",
              "\n",
              "          const docLinkHtml = 'Like what you see? Visit the ' +\n",
              "            '<a target=\"_blank\" href=https://colab.research.google.com/notebooks/data_table.ipynb>data table notebook</a>'\n",
              "            + ' to learn more about interactive tables.';\n",
              "          element.innerHTML = '';\n",
              "          dataTable['output_type'] = 'display_data';\n",
              "          await google.colab.output.renderOutput(dataTable, element);\n",
              "          const docLink = document.createElement('div');\n",
              "          docLink.innerHTML = docLinkHtml;\n",
              "          element.appendChild(docLink);\n",
              "        }\n",
              "      </script>\n",
              "    </div>\n",
              "  </div>\n",
              "  "
            ]
          },
          "metadata": {},
          "execution_count": 47
        }
      ]
    },
    {
      "cell_type": "code",
      "metadata": {
        "id": "98JSZquOUuhA"
      },
      "source": [
        "#A function to find all the non numeric values\n",
        "def non_numerals(series):\n",
        "  non_numerals = []\n",
        "  for i in series.unique():\n",
        "    try :\n",
        "      i = float(i)\n",
        "    except:\n",
        "      non_numerals.append(i)\n",
        "  return non_numerals"
      ],
      "execution_count": null,
      "outputs": []
    },
    {
      "cell_type": "code",
      "metadata": {
        "id": "Xd-2qqH7dPcD"
      },
      "source": [
        "# A function to replace the non-numeric values\n",
        "def replace_nn_with(series, type_, fill_with = None, method = 'mean'):\n",
        "\n",
        "  nn = non_numerals(series)\n",
        "  print('-'*30)\n",
        "  print('-'*30)\n",
        "  print(\"Non Numerals in column \",series.name,\" : \",nn)\n",
        "\n",
        "  series = series.replace(nn, np.nan, inplace = False)\n",
        "  nulls = series.isnull().sum()\n",
        "  if fill_with:\n",
        "    series.fillna(fill_with, inplace = True)\n",
        "    print(\"Filling Non Numerals with {}\".format(fill_with))\n",
        "\n",
        "  else:\n",
        "    series = series.replace(nn, np.nan, inplace = False)\n",
        "\n",
        "    if method == 'mean' :\n",
        "      rep = series.astype(float).mean()\n",
        "      print(\"Filling Non Numerals with MEAN = \", rep)\n",
        "\n",
        "    elif method == 'median' :\n",
        "      rep = series.astype(float).median()\n",
        "      print(\"Filling Non Numerals with MEDIAN = \", rep)\n",
        "\n",
        "    elif method == 'min' :\n",
        "      rep = series.astype(float).min()\n",
        "      print(\"Filling Non Numerals with MINIMUM = \", rep)\n",
        "\n",
        "    else:\n",
        "      print('Please pass a valid method as a string -- (\"mean\" or \"median\" or \"min\")')\n",
        "      return 0\n",
        "\n",
        "    series.fillna(rep, inplace = True)\n",
        "\n",
        "  try:\n",
        "    series = series.astype(type_)\n",
        "    print(nulls, \": observations replaced\")\n",
        "    return series\n",
        "  except:\n",
        "    # Since type conversion of a string containting decimals to int is not possible, it is first converted to float\n",
        "    series =  series.astype(float)\n",
        "    print(nulls, \": observations replaced\")\n",
        "    series =  series.astype(type_)\n",
        "    return series\n",
        "\n"
      ],
      "execution_count": null,
      "outputs": []
    },
    {
      "cell_type": "code",
      "metadata": {
        "id": "UgP5SZBbvH-n",
        "outputId": "0a30f6ad-4639-4df3-e1c0-26b63dfaecc5",
        "colab": {
          "base_uri": "https://localhost:8080/",
          "height": 302
        }
      },
      "source": [
        "train.head()"
      ],
      "execution_count": null,
      "outputs": [
        {
          "output_type": "execute_result",
          "data": {
            "text/plain": [
              "  Restaurant                              Location  \\\n",
              "0    ID_3744        Dockyard Road, Mumbai CST Area   \n",
              "1    ID_5984                          Delhi Cantt.   \n",
              "2      ID_13                         MG Road, Pune   \n",
              "3     ID_643  Delhi Administration Flats, Timarpur   \n",
              "4    ID_5754                       Pune University   \n",
              "\n",
              "                                            Cuisines Average_Cost  \\\n",
              "0                                 Fast Food, Chinese         ₹200   \n",
              "1                                       North Indian         ₹100   \n",
              "2  Continental, North Indian, Seafood, Cafe, Sala...         ₹650   \n",
              "3                                               Naga         ₹250   \n",
              "4                                   Pizza, Fast Food         ₹200   \n",
              "\n",
              "  Minimum_Order Rating Votes Reviews Delivery_Time  Average_Cost_Cleaned  \\\n",
              "0           ₹50    3.8    91      44    45 minutes                   200   \n",
              "1           ₹50    2.9    37      16    30 minutes                   100   \n",
              "2           ₹50    4.1  3860    1962    45 minutes                   650   \n",
              "3           ₹50    3.9   313     119    45 minutes                   250   \n",
              "4           ₹50    3.3    86      48    45 minutes                   200   \n",
              "\n",
              "   Minimum_Order_Cleaned  \n",
              "0                     50  \n",
              "1                     50  \n",
              "2                     50  \n",
              "3                     50  \n",
              "4                     50  "
            ],
            "text/html": [
              "\n",
              "  <div id=\"df-fdf05493-6b73-4f5f-aa6c-bcaebca05f02\">\n",
              "    <div class=\"colab-df-container\">\n",
              "      <div>\n",
              "<style scoped>\n",
              "    .dataframe tbody tr th:only-of-type {\n",
              "        vertical-align: middle;\n",
              "    }\n",
              "\n",
              "    .dataframe tbody tr th {\n",
              "        vertical-align: top;\n",
              "    }\n",
              "\n",
              "    .dataframe thead th {\n",
              "        text-align: right;\n",
              "    }\n",
              "</style>\n",
              "<table border=\"1\" class=\"dataframe\">\n",
              "  <thead>\n",
              "    <tr style=\"text-align: right;\">\n",
              "      <th></th>\n",
              "      <th>Restaurant</th>\n",
              "      <th>Location</th>\n",
              "      <th>Cuisines</th>\n",
              "      <th>Average_Cost</th>\n",
              "      <th>Minimum_Order</th>\n",
              "      <th>Rating</th>\n",
              "      <th>Votes</th>\n",
              "      <th>Reviews</th>\n",
              "      <th>Delivery_Time</th>\n",
              "      <th>Average_Cost_Cleaned</th>\n",
              "      <th>Minimum_Order_Cleaned</th>\n",
              "    </tr>\n",
              "  </thead>\n",
              "  <tbody>\n",
              "    <tr>\n",
              "      <th>0</th>\n",
              "      <td>ID_3744</td>\n",
              "      <td>Dockyard Road, Mumbai CST Area</td>\n",
              "      <td>Fast Food, Chinese</td>\n",
              "      <td>₹200</td>\n",
              "      <td>₹50</td>\n",
              "      <td>3.8</td>\n",
              "      <td>91</td>\n",
              "      <td>44</td>\n",
              "      <td>45 minutes</td>\n",
              "      <td>200</td>\n",
              "      <td>50</td>\n",
              "    </tr>\n",
              "    <tr>\n",
              "      <th>1</th>\n",
              "      <td>ID_5984</td>\n",
              "      <td>Delhi Cantt.</td>\n",
              "      <td>North Indian</td>\n",
              "      <td>₹100</td>\n",
              "      <td>₹50</td>\n",
              "      <td>2.9</td>\n",
              "      <td>37</td>\n",
              "      <td>16</td>\n",
              "      <td>30 minutes</td>\n",
              "      <td>100</td>\n",
              "      <td>50</td>\n",
              "    </tr>\n",
              "    <tr>\n",
              "      <th>2</th>\n",
              "      <td>ID_13</td>\n",
              "      <td>MG Road, Pune</td>\n",
              "      <td>Continental, North Indian, Seafood, Cafe, Sala...</td>\n",
              "      <td>₹650</td>\n",
              "      <td>₹50</td>\n",
              "      <td>4.1</td>\n",
              "      <td>3860</td>\n",
              "      <td>1962</td>\n",
              "      <td>45 minutes</td>\n",
              "      <td>650</td>\n",
              "      <td>50</td>\n",
              "    </tr>\n",
              "    <tr>\n",
              "      <th>3</th>\n",
              "      <td>ID_643</td>\n",
              "      <td>Delhi Administration Flats, Timarpur</td>\n",
              "      <td>Naga</td>\n",
              "      <td>₹250</td>\n",
              "      <td>₹50</td>\n",
              "      <td>3.9</td>\n",
              "      <td>313</td>\n",
              "      <td>119</td>\n",
              "      <td>45 minutes</td>\n",
              "      <td>250</td>\n",
              "      <td>50</td>\n",
              "    </tr>\n",
              "    <tr>\n",
              "      <th>4</th>\n",
              "      <td>ID_5754</td>\n",
              "      <td>Pune University</td>\n",
              "      <td>Pizza, Fast Food</td>\n",
              "      <td>₹200</td>\n",
              "      <td>₹50</td>\n",
              "      <td>3.3</td>\n",
              "      <td>86</td>\n",
              "      <td>48</td>\n",
              "      <td>45 minutes</td>\n",
              "      <td>200</td>\n",
              "      <td>50</td>\n",
              "    </tr>\n",
              "  </tbody>\n",
              "</table>\n",
              "</div>\n",
              "      <button class=\"colab-df-convert\" onclick=\"convertToInteractive('df-fdf05493-6b73-4f5f-aa6c-bcaebca05f02')\"\n",
              "              title=\"Convert this dataframe to an interactive table.\"\n",
              "              style=\"display:none;\">\n",
              "        \n",
              "  <svg xmlns=\"http://www.w3.org/2000/svg\" height=\"24px\"viewBox=\"0 0 24 24\"\n",
              "       width=\"24px\">\n",
              "    <path d=\"M0 0h24v24H0V0z\" fill=\"none\"/>\n",
              "    <path d=\"M18.56 5.44l.94 2.06.94-2.06 2.06-.94-2.06-.94-.94-2.06-.94 2.06-2.06.94zm-11 1L8.5 8.5l.94-2.06 2.06-.94-2.06-.94L8.5 2.5l-.94 2.06-2.06.94zm10 10l.94 2.06.94-2.06 2.06-.94-2.06-.94-.94-2.06-.94 2.06-2.06.94z\"/><path d=\"M17.41 7.96l-1.37-1.37c-.4-.4-.92-.59-1.43-.59-.52 0-1.04.2-1.43.59L10.3 9.45l-7.72 7.72c-.78.78-.78 2.05 0 2.83L4 21.41c.39.39.9.59 1.41.59.51 0 1.02-.2 1.41-.59l7.78-7.78 2.81-2.81c.8-.78.8-2.07 0-2.86zM5.41 20L4 18.59l7.72-7.72 1.47 1.35L5.41 20z\"/>\n",
              "  </svg>\n",
              "      </button>\n",
              "      \n",
              "  <style>\n",
              "    .colab-df-container {\n",
              "      display:flex;\n",
              "      flex-wrap:wrap;\n",
              "      gap: 12px;\n",
              "    }\n",
              "\n",
              "    .colab-df-convert {\n",
              "      background-color: #E8F0FE;\n",
              "      border: none;\n",
              "      border-radius: 50%;\n",
              "      cursor: pointer;\n",
              "      display: none;\n",
              "      fill: #1967D2;\n",
              "      height: 32px;\n",
              "      padding: 0 0 0 0;\n",
              "      width: 32px;\n",
              "    }\n",
              "\n",
              "    .colab-df-convert:hover {\n",
              "      background-color: #E2EBFA;\n",
              "      box-shadow: 0px 1px 2px rgba(60, 64, 67, 0.3), 0px 1px 3px 1px rgba(60, 64, 67, 0.15);\n",
              "      fill: #174EA6;\n",
              "    }\n",
              "\n",
              "    [theme=dark] .colab-df-convert {\n",
              "      background-color: #3B4455;\n",
              "      fill: #D2E3FC;\n",
              "    }\n",
              "\n",
              "    [theme=dark] .colab-df-convert:hover {\n",
              "      background-color: #434B5C;\n",
              "      box-shadow: 0px 1px 3px 1px rgba(0, 0, 0, 0.15);\n",
              "      filter: drop-shadow(0px 1px 2px rgba(0, 0, 0, 0.3));\n",
              "      fill: #FFFFFF;\n",
              "    }\n",
              "  </style>\n",
              "\n",
              "      <script>\n",
              "        const buttonEl =\n",
              "          document.querySelector('#df-fdf05493-6b73-4f5f-aa6c-bcaebca05f02 button.colab-df-convert');\n",
              "        buttonEl.style.display =\n",
              "          google.colab.kernel.accessAllowed ? 'block' : 'none';\n",
              "\n",
              "        async function convertToInteractive(key) {\n",
              "          const element = document.querySelector('#df-fdf05493-6b73-4f5f-aa6c-bcaebca05f02');\n",
              "          const dataTable =\n",
              "            await google.colab.kernel.invokeFunction('convertToInteractive',\n",
              "                                                     [key], {});\n",
              "          if (!dataTable) return;\n",
              "\n",
              "          const docLinkHtml = 'Like what you see? Visit the ' +\n",
              "            '<a target=\"_blank\" href=https://colab.research.google.com/notebooks/data_table.ipynb>data table notebook</a>'\n",
              "            + ' to learn more about interactive tables.';\n",
              "          element.innerHTML = '';\n",
              "          dataTable['output_type'] = 'display_data';\n",
              "          await google.colab.output.renderOutput(dataTable, element);\n",
              "          const docLink = document.createElement('div');\n",
              "          docLink.innerHTML = docLinkHtml;\n",
              "          element.appendChild(docLink);\n",
              "        }\n",
              "      </script>\n",
              "    </div>\n",
              "  </div>\n",
              "  "
            ]
          },
          "metadata": {},
          "execution_count": 50
        }
      ]
    },
    {
      "cell_type": "markdown",
      "metadata": {
        "id": "D2UGyd1YXR_w"
      },
      "source": [
        "Lets Clean the columns"
      ]
    },
    {
      "cell_type": "code",
      "metadata": {
        "id": "N0hBJrrPcnAN",
        "outputId": "e62256b5-418a-44f7-8b75-1640c8d9933d",
        "colab": {
          "base_uri": "https://localhost:8080/"
        }
      },
      "source": [
        "train['Rating_Cleaned'] = replace_nn_with(train['Rating'],float, method = 'mean')"
      ],
      "execution_count": null,
      "outputs": [
        {
          "output_type": "stream",
          "name": "stdout",
          "text": [
            "------------------------------\n",
            "------------------------------\n",
            "Non Numerals in column  Rating  :  ['NEW', '-', 'Temporarily Closed', 'Opening Soon']\n",
            "Filling Non Numerals with MEAN =  3.618973796131156\n",
            "1586 : observations replaced\n"
          ]
        }
      ]
    },
    {
      "cell_type": "code",
      "metadata": {
        "id": "mDNBE-N3yZFq",
        "outputId": "f32a02bb-8d4e-48fb-b140-f734fc778179",
        "colab": {
          "base_uri": "https://localhost:8080/"
        }
      },
      "source": [
        "test['Rating_Cleaned'] = replace_nn_with(test['Rating'],float, fill_with = 3.6134596429744668)"
      ],
      "execution_count": null,
      "outputs": [
        {
          "output_type": "stream",
          "name": "stdout",
          "text": [
            "------------------------------\n",
            "------------------------------\n",
            "Non Numerals in column  Rating  :  ['-', 'NEW', 'Opening Soon']\n",
            "Filling Non Numerals with 3.6134596429744668\n",
            "377 : observations replaced\n"
          ]
        }
      ]
    },
    {
      "cell_type": "code",
      "metadata": {
        "id": "SrSqjkJ9cm46",
        "outputId": "6011e63c-782e-4ac0-908d-597e6aa40d54",
        "colab": {
          "base_uri": "https://localhost:8080/"
        }
      },
      "source": [
        "train['Votes_Cleaned'] = replace_nn_with(train['Votes'],int,method =  'mean')\n"
      ],
      "execution_count": null,
      "outputs": [
        {
          "output_type": "stream",
          "name": "stdout",
          "text": [
            "------------------------------\n",
            "------------------------------\n",
            "Non Numerals in column  Votes  :  ['-']\n",
            "Filling Non Numerals with MEAN =  253.60161133490763\n",
            "1676 : observations replaced\n"
          ]
        }
      ]
    },
    {
      "cell_type": "code",
      "metadata": {
        "id": "NK45gKPj4m9L",
        "outputId": "ca9a1d94-ad5d-4a29-efe7-d0cc92c97e5c",
        "colab": {
          "base_uri": "https://localhost:8080/"
        }
      },
      "source": [
        "test['Votes_Cleaned'] = replace_nn_with(test['Votes'],int,fill_with = 244.54445676274943)"
      ],
      "execution_count": null,
      "outputs": [
        {
          "output_type": "stream",
          "name": "stdout",
          "text": [
            "------------------------------\n",
            "------------------------------\n",
            "Non Numerals in column  Votes  :  ['-']\n",
            "Filling Non Numerals with 244.54445676274943\n",
            "398 : observations replaced\n"
          ]
        }
      ]
    },
    {
      "cell_type": "code",
      "metadata": {
        "id": "D3ZTqnwIzmHa",
        "outputId": "09ba6bf1-84c2-4d7d-ecdd-f53c23f84ed6",
        "colab": {
          "base_uri": "https://localhost:8080/"
        }
      },
      "source": [
        "train['Reviews_Cleaned'] = replace_nn_with(train['Reviews'],int, method =  'mean')"
      ],
      "execution_count": null,
      "outputs": [
        {
          "output_type": "stream",
          "name": "stdout",
          "text": [
            "------------------------------\n",
            "------------------------------\n",
            "Non Numerals in column  Reviews  :  ['-']\n",
            "Filling Non Numerals with MEAN =  127.1063283922463\n",
            "1859 : observations replaced\n"
          ]
        }
      ]
    },
    {
      "cell_type": "code",
      "metadata": {
        "id": "iEMVlV2R4vcW",
        "outputId": "c44d633b-7736-47e5-c961-ae93e0110086",
        "colab": {
          "base_uri": "https://localhost:8080/"
        }
      },
      "source": [
        "test['Reviews_Cleaned'] = replace_nn_with(test['Reviews'],int, method =  'mean',fill_with = 123.247893 )"
      ],
      "execution_count": null,
      "outputs": [
        {
          "output_type": "stream",
          "name": "stdout",
          "text": [
            "------------------------------\n",
            "------------------------------\n",
            "Non Numerals in column  Reviews  :  ['-']\n",
            "Filling Non Numerals with 123.247893\n",
            "453 : observations replaced\n"
          ]
        }
      ]
    },
    {
      "cell_type": "code",
      "metadata": {
        "id": "kXVltCBZwXly",
        "outputId": "605c7dc5-79eb-4cc0-d83d-d82636a56d75",
        "colab": {
          "base_uri": "https://localhost:8080/",
          "height": 496
        }
      },
      "source": [
        "train.head(5)"
      ],
      "execution_count": null,
      "outputs": [
        {
          "output_type": "execute_result",
          "data": {
            "text/plain": [
              "  Restaurant                              Location  \\\n",
              "0    ID_3744        Dockyard Road, Mumbai CST Area   \n",
              "1    ID_5984                          Delhi Cantt.   \n",
              "2      ID_13                         MG Road, Pune   \n",
              "3     ID_643  Delhi Administration Flats, Timarpur   \n",
              "4    ID_5754                       Pune University   \n",
              "\n",
              "                                            Cuisines Average_Cost  \\\n",
              "0                                 Fast Food, Chinese         ₹200   \n",
              "1                                       North Indian         ₹100   \n",
              "2  Continental, North Indian, Seafood, Cafe, Sala...         ₹650   \n",
              "3                                               Naga         ₹250   \n",
              "4                                   Pizza, Fast Food         ₹200   \n",
              "\n",
              "  Minimum_Order Rating Votes Reviews Delivery_Time  Average_Cost_Cleaned  \\\n",
              "0           ₹50    3.8    91      44    45 minutes                   200   \n",
              "1           ₹50    2.9    37      16    30 minutes                   100   \n",
              "2           ₹50    4.1  3860    1962    45 minutes                   650   \n",
              "3           ₹50    3.9   313     119    45 minutes                   250   \n",
              "4           ₹50    3.3    86      48    45 minutes                   200   \n",
              "\n",
              "   Minimum_Order_Cleaned  Rating_Cleaned  Votes_Cleaned  Reviews_Cleaned  \n",
              "0                     50             3.8             91               44  \n",
              "1                     50             2.9             37               16  \n",
              "2                     50             4.1           3860             1962  \n",
              "3                     50             3.9            313              119  \n",
              "4                     50             3.3             86               48  "
            ],
            "text/html": [
              "\n",
              "  <div id=\"df-ec382fe9-6a28-4e5d-a88c-9922df6d0516\">\n",
              "    <div class=\"colab-df-container\">\n",
              "      <div>\n",
              "<style scoped>\n",
              "    .dataframe tbody tr th:only-of-type {\n",
              "        vertical-align: middle;\n",
              "    }\n",
              "\n",
              "    .dataframe tbody tr th {\n",
              "        vertical-align: top;\n",
              "    }\n",
              "\n",
              "    .dataframe thead th {\n",
              "        text-align: right;\n",
              "    }\n",
              "</style>\n",
              "<table border=\"1\" class=\"dataframe\">\n",
              "  <thead>\n",
              "    <tr style=\"text-align: right;\">\n",
              "      <th></th>\n",
              "      <th>Restaurant</th>\n",
              "      <th>Location</th>\n",
              "      <th>Cuisines</th>\n",
              "      <th>Average_Cost</th>\n",
              "      <th>Minimum_Order</th>\n",
              "      <th>Rating</th>\n",
              "      <th>Votes</th>\n",
              "      <th>Reviews</th>\n",
              "      <th>Delivery_Time</th>\n",
              "      <th>Average_Cost_Cleaned</th>\n",
              "      <th>Minimum_Order_Cleaned</th>\n",
              "      <th>Rating_Cleaned</th>\n",
              "      <th>Votes_Cleaned</th>\n",
              "      <th>Reviews_Cleaned</th>\n",
              "    </tr>\n",
              "  </thead>\n",
              "  <tbody>\n",
              "    <tr>\n",
              "      <th>0</th>\n",
              "      <td>ID_3744</td>\n",
              "      <td>Dockyard Road, Mumbai CST Area</td>\n",
              "      <td>Fast Food, Chinese</td>\n",
              "      <td>₹200</td>\n",
              "      <td>₹50</td>\n",
              "      <td>3.8</td>\n",
              "      <td>91</td>\n",
              "      <td>44</td>\n",
              "      <td>45 minutes</td>\n",
              "      <td>200</td>\n",
              "      <td>50</td>\n",
              "      <td>3.8</td>\n",
              "      <td>91</td>\n",
              "      <td>44</td>\n",
              "    </tr>\n",
              "    <tr>\n",
              "      <th>1</th>\n",
              "      <td>ID_5984</td>\n",
              "      <td>Delhi Cantt.</td>\n",
              "      <td>North Indian</td>\n",
              "      <td>₹100</td>\n",
              "      <td>₹50</td>\n",
              "      <td>2.9</td>\n",
              "      <td>37</td>\n",
              "      <td>16</td>\n",
              "      <td>30 minutes</td>\n",
              "      <td>100</td>\n",
              "      <td>50</td>\n",
              "      <td>2.9</td>\n",
              "      <td>37</td>\n",
              "      <td>16</td>\n",
              "    </tr>\n",
              "    <tr>\n",
              "      <th>2</th>\n",
              "      <td>ID_13</td>\n",
              "      <td>MG Road, Pune</td>\n",
              "      <td>Continental, North Indian, Seafood, Cafe, Sala...</td>\n",
              "      <td>₹650</td>\n",
              "      <td>₹50</td>\n",
              "      <td>4.1</td>\n",
              "      <td>3860</td>\n",
              "      <td>1962</td>\n",
              "      <td>45 minutes</td>\n",
              "      <td>650</td>\n",
              "      <td>50</td>\n",
              "      <td>4.1</td>\n",
              "      <td>3860</td>\n",
              "      <td>1962</td>\n",
              "    </tr>\n",
              "    <tr>\n",
              "      <th>3</th>\n",
              "      <td>ID_643</td>\n",
              "      <td>Delhi Administration Flats, Timarpur</td>\n",
              "      <td>Naga</td>\n",
              "      <td>₹250</td>\n",
              "      <td>₹50</td>\n",
              "      <td>3.9</td>\n",
              "      <td>313</td>\n",
              "      <td>119</td>\n",
              "      <td>45 minutes</td>\n",
              "      <td>250</td>\n",
              "      <td>50</td>\n",
              "      <td>3.9</td>\n",
              "      <td>313</td>\n",
              "      <td>119</td>\n",
              "    </tr>\n",
              "    <tr>\n",
              "      <th>4</th>\n",
              "      <td>ID_5754</td>\n",
              "      <td>Pune University</td>\n",
              "      <td>Pizza, Fast Food</td>\n",
              "      <td>₹200</td>\n",
              "      <td>₹50</td>\n",
              "      <td>3.3</td>\n",
              "      <td>86</td>\n",
              "      <td>48</td>\n",
              "      <td>45 minutes</td>\n",
              "      <td>200</td>\n",
              "      <td>50</td>\n",
              "      <td>3.3</td>\n",
              "      <td>86</td>\n",
              "      <td>48</td>\n",
              "    </tr>\n",
              "  </tbody>\n",
              "</table>\n",
              "</div>\n",
              "      <button class=\"colab-df-convert\" onclick=\"convertToInteractive('df-ec382fe9-6a28-4e5d-a88c-9922df6d0516')\"\n",
              "              title=\"Convert this dataframe to an interactive table.\"\n",
              "              style=\"display:none;\">\n",
              "        \n",
              "  <svg xmlns=\"http://www.w3.org/2000/svg\" height=\"24px\"viewBox=\"0 0 24 24\"\n",
              "       width=\"24px\">\n",
              "    <path d=\"M0 0h24v24H0V0z\" fill=\"none\"/>\n",
              "    <path d=\"M18.56 5.44l.94 2.06.94-2.06 2.06-.94-2.06-.94-.94-2.06-.94 2.06-2.06.94zm-11 1L8.5 8.5l.94-2.06 2.06-.94-2.06-.94L8.5 2.5l-.94 2.06-2.06.94zm10 10l.94 2.06.94-2.06 2.06-.94-2.06-.94-.94-2.06-.94 2.06-2.06.94z\"/><path d=\"M17.41 7.96l-1.37-1.37c-.4-.4-.92-.59-1.43-.59-.52 0-1.04.2-1.43.59L10.3 9.45l-7.72 7.72c-.78.78-.78 2.05 0 2.83L4 21.41c.39.39.9.59 1.41.59.51 0 1.02-.2 1.41-.59l7.78-7.78 2.81-2.81c.8-.78.8-2.07 0-2.86zM5.41 20L4 18.59l7.72-7.72 1.47 1.35L5.41 20z\"/>\n",
              "  </svg>\n",
              "      </button>\n",
              "      \n",
              "  <style>\n",
              "    .colab-df-container {\n",
              "      display:flex;\n",
              "      flex-wrap:wrap;\n",
              "      gap: 12px;\n",
              "    }\n",
              "\n",
              "    .colab-df-convert {\n",
              "      background-color: #E8F0FE;\n",
              "      border: none;\n",
              "      border-radius: 50%;\n",
              "      cursor: pointer;\n",
              "      display: none;\n",
              "      fill: #1967D2;\n",
              "      height: 32px;\n",
              "      padding: 0 0 0 0;\n",
              "      width: 32px;\n",
              "    }\n",
              "\n",
              "    .colab-df-convert:hover {\n",
              "      background-color: #E2EBFA;\n",
              "      box-shadow: 0px 1px 2px rgba(60, 64, 67, 0.3), 0px 1px 3px 1px rgba(60, 64, 67, 0.15);\n",
              "      fill: #174EA6;\n",
              "    }\n",
              "\n",
              "    [theme=dark] .colab-df-convert {\n",
              "      background-color: #3B4455;\n",
              "      fill: #D2E3FC;\n",
              "    }\n",
              "\n",
              "    [theme=dark] .colab-df-convert:hover {\n",
              "      background-color: #434B5C;\n",
              "      box-shadow: 0px 1px 3px 1px rgba(0, 0, 0, 0.15);\n",
              "      filter: drop-shadow(0px 1px 2px rgba(0, 0, 0, 0.3));\n",
              "      fill: #FFFFFF;\n",
              "    }\n",
              "  </style>\n",
              "\n",
              "      <script>\n",
              "        const buttonEl =\n",
              "          document.querySelector('#df-ec382fe9-6a28-4e5d-a88c-9922df6d0516 button.colab-df-convert');\n",
              "        buttonEl.style.display =\n",
              "          google.colab.kernel.accessAllowed ? 'block' : 'none';\n",
              "\n",
              "        async function convertToInteractive(key) {\n",
              "          const element = document.querySelector('#df-ec382fe9-6a28-4e5d-a88c-9922df6d0516');\n",
              "          const dataTable =\n",
              "            await google.colab.kernel.invokeFunction('convertToInteractive',\n",
              "                                                     [key], {});\n",
              "          if (!dataTable) return;\n",
              "\n",
              "          const docLinkHtml = 'Like what you see? Visit the ' +\n",
              "            '<a target=\"_blank\" href=https://colab.research.google.com/notebooks/data_table.ipynb>data table notebook</a>'\n",
              "            + ' to learn more about interactive tables.';\n",
              "          element.innerHTML = '';\n",
              "          dataTable['output_type'] = 'display_data';\n",
              "          await google.colab.output.renderOutput(dataTable, element);\n",
              "          const docLink = document.createElement('div');\n",
              "          docLink.innerHTML = docLinkHtml;\n",
              "          element.appendChild(docLink);\n",
              "        }\n",
              "      </script>\n",
              "    </div>\n",
              "  </div>\n",
              "  "
            ]
          },
          "metadata": {},
          "execution_count": 59
        }
      ]
    },
    {
      "cell_type": "code",
      "metadata": {
        "id": "fbQIqpjpAZxP",
        "outputId": "1e9c8225-b0b1-48fd-9fc8-9764c18c4668",
        "colab": {
          "base_uri": "https://localhost:8080/"
        }
      },
      "source": [
        "train.columns"
      ],
      "execution_count": null,
      "outputs": [
        {
          "output_type": "execute_result",
          "data": {
            "text/plain": [
              "Index(['Restaurant', 'Location', 'Cuisines', 'Average_Cost', 'Minimum_Order',\n",
              "       'Rating', 'Votes', 'Reviews', 'Delivery_Time', 'Average_Cost_Cleaned',\n",
              "       'Minimum_Order_Cleaned', 'Rating_Cleaned', 'Votes_Cleaned',\n",
              "       'Reviews_Cleaned'],\n",
              "      dtype='object')"
            ]
          },
          "metadata": {},
          "execution_count": 60
        }
      ]
    },
    {
      "cell_type": "markdown",
      "metadata": {
        "id": "WZvTDcx3Xgtc"
      },
      "source": [
        "We are done with the cleaning part and now we will select only the columns we need for further stages."
      ]
    },
    {
      "cell_type": "code",
      "metadata": {
        "id": "3r-RUSjAAIgL"
      },
      "source": [
        "cols = ['Restaurant',  'Average_Cost_Cleaned',\n",
        "       'Minimum_Order_Cleaned', 'Rating_Cleaned', 'Votes_Cleaned',\n",
        "       'Reviews_Cleaned','Delivery_Time' ]"
      ],
      "execution_count": null,
      "outputs": []
    },
    {
      "cell_type": "code",
      "metadata": {
        "id": "zdLJ2jsUAoCb"
      },
      "source": [
        "train_sample = train[cols]\n",
        "test_sample = test[cols[:-1]]"
      ],
      "execution_count": null,
      "outputs": []
    },
    {
      "cell_type": "markdown",
      "metadata": {
        "id": "rRbkFzexX00x"
      },
      "source": [
        "We will now merge all the cleaned features to form a perfect dataframe"
      ]
    },
    {
      "cell_type": "code",
      "metadata": {
        "id": "2bYpHnkkBEOt"
      },
      "source": [
        "train_sample = pd.concat([pd.DataFrame(train_Location_splits), pd.DataFrame(train_Cuisines_splits),train_sample],sort=False,axis = 1)\n",
        "test_sample = pd.concat([pd.DataFrame(test_Location_splits), pd.DataFrame(test_Cuisines_splits), test_sample],sort=False,axis = 1)"
      ],
      "execution_count": null,
      "outputs": []
    },
    {
      "cell_type": "code",
      "metadata": {
        "id": "eBQh4JoFCEY-",
        "outputId": "d18ef22f-df7f-466c-de2f-9d73ca0e4eaa",
        "colab": {
          "base_uri": "https://localhost:8080/",
          "height": 1000
        }
      },
      "source": [
        "#lets take a look at the relation between the numeric features in the dataset\n",
        "import seaborn\n",
        "seaborn.pairplot(train_sample)"
      ],
      "execution_count": null,
      "outputs": [
        {
          "output_type": "execute_result",
          "data": {
            "text/plain": [
              "<seaborn.axisgrid.PairGrid at 0x7fb3e80cab50>"
            ]
          },
          "metadata": {},
          "execution_count": 64
        },
        {
          "output_type": "display_data",
          "data": {
            "text/plain": [
              "<Figure size 1250x1250 with 30 Axes>"
            ],
            "image/png": "[encoded data removed]"
          },
          "metadata": {}
        }
      ]
    },
    {
      "cell_type": "code",
      "metadata": {
        "id": "RmXx7yZTGUs9",
        "outputId": "94e179cd-0248-49c4-cda7-2d284c0a6ac7",
        "colab": {
          "base_uri": "https://localhost:8080/",
          "height": 1000
        }
      },
      "source": [
        "seaborn.pairplot(test_sample)"
      ],
      "execution_count": null,
      "outputs": [
        {
          "output_type": "execute_result",
          "data": {
            "text/plain": [
              "<seaborn.axisgrid.PairGrid at 0x7fb3d5f13220>"
            ]
          },
          "metadata": {},
          "execution_count": 65
        },
        {
          "output_type": "display_data",
          "data": {
            "text/plain": [
              "<Figure size 1250x1250 with 30 Axes>"
            ],
            "image/png": "[encoded data removed]"
          },
          "metadata": {}
        }
      ]
    },
    {
      "cell_type": "markdown",
      "metadata": {
        "id": "u1kumctM5Jf5"
      },
      "source": [
        "##Data Preprocessing"
      ]
    },
    {
      "cell_type": "markdown",
      "metadata": {
        "id": "1bxiaN83YEcA"
      },
      "source": [
        "After cleaning, there are still some Data-Preparation tasks left. We still have some missing values that we allotted during the feature generation.\n",
        "\n",
        "In the Preprocessing stage we will perform the following :\n",
        "\n",
        "* Dealing with Nulls/empty cells\n",
        "* Encoding Categorical variables\n",
        "* Scaling the features"
      ]
    },
    {
      "cell_type": "markdown",
      "metadata": {
        "id": "SCbszxL0-NPg"
      },
      "source": [
        "### Removing Nulls"
      ]
    },
    {
      "cell_type": "code",
      "metadata": {
        "id": "MkXVhYBP2EL4",
        "outputId": "4386b946-2c80-44ae-fdaa-d35636e20c9a",
        "colab": {
          "base_uri": "https://localhost:8080/"
        }
      },
      "source": [
        "train_sample.isnull().sum()"
      ],
      "execution_count": null,
      "outputs": [
        {
          "output_type": "execute_result",
          "data": {
            "text/plain": [
              "Location_Feature_1          0\n",
              "Location_Feature_2       1566\n",
              "Location_Feature_3       5103\n",
              "Location_Feature_4       8058\n",
              "Cuisines_Feature_1          0\n",
              "Cuisines_Feature_2       2383\n",
              "Cuisines_Feature_3       5521\n",
              "Cuisines_Feature_4       7502\n",
              "Cuisines_Feature_5       8368\n",
              "Cuisines_Feature_6       8687\n",
              "Cuisines_Feature_7       8787\n",
              "Cuisines_Feature_8       8836\n",
              "Restaurant                  0\n",
              "Average_Cost_Cleaned        0\n",
              "Minimum_Order_Cleaned       0\n",
              "Rating_Cleaned              0\n",
              "Votes_Cleaned               0\n",
              "Reviews_Cleaned             0\n",
              "Delivery_Time               0\n",
              "dtype: int64"
            ]
          },
          "metadata": {},
          "execution_count": 66
        }
      ]
    },
    {
      "cell_type": "markdown",
      "metadata": {
        "id": "xVejY3poZKSx"
      },
      "source": [
        "Since the nulls are present only in the categorical features, in this approach, to make it simple I will just replace all the NaNs with a string 'NAN' and will use it as a added category or class."
      ]
    },
    {
      "cell_type": "code",
      "metadata": {
        "id": "iQUda-wk2VvR"
      },
      "source": [
        "train_sample.fillna('NAN', inplace = True)"
      ],
      "execution_count": null,
      "outputs": []
    },
    {
      "cell_type": "code",
      "metadata": {
        "id": "i11idxAi2gI0",
        "outputId": "5152ad53-83b9-4332-8492-20c1423a189a",
        "colab": {
          "base_uri": "https://localhost:8080/"
        }
      },
      "source": [
        "train_sample.isnull().sum()"
      ],
      "execution_count": null,
      "outputs": [
        {
          "output_type": "execute_result",
          "data": {
            "text/plain": [
              "Location_Feature_1       0\n",
              "Location_Feature_2       0\n",
              "Location_Feature_3       0\n",
              "Location_Feature_4       0\n",
              "Cuisines_Feature_1       0\n",
              "Cuisines_Feature_2       0\n",
              "Cuisines_Feature_3       0\n",
              "Cuisines_Feature_4       0\n",
              "Cuisines_Feature_5       0\n",
              "Cuisines_Feature_6       0\n",
              "Cuisines_Feature_7       0\n",
              "Cuisines_Feature_8       0\n",
              "Restaurant               0\n",
              "Average_Cost_Cleaned     0\n",
              "Minimum_Order_Cleaned    0\n",
              "Rating_Cleaned           0\n",
              "Votes_Cleaned            0\n",
              "Reviews_Cleaned          0\n",
              "Delivery_Time            0\n",
              "dtype: int64"
            ]
          },
          "metadata": {},
          "execution_count": 68
        }
      ]
    },
    {
      "cell_type": "code",
      "metadata": {
        "id": "b3UkAuNO2ntr",
        "outputId": "060461b7-2dc4-4459-ceed-a2b508cae9e1",
        "colab": {
          "base_uri": "https://localhost:8080/"
        }
      },
      "source": [
        "train_sample.isnull().sum()"
      ],
      "execution_count": null,
      "outputs": [
        {
          "output_type": "execute_result",
          "data": {
            "text/plain": [
              "Location_Feature_1       0\n",
              "Location_Feature_2       0\n",
              "Location_Feature_3       0\n",
              "Location_Feature_4       0\n",
              "Cuisines_Feature_1       0\n",
              "Cuisines_Feature_2       0\n",
              "Cuisines_Feature_3       0\n",
              "Cuisines_Feature_4       0\n",
              "Cuisines_Feature_5       0\n",
              "Cuisines_Feature_6       0\n",
              "Cuisines_Feature_7       0\n",
              "Cuisines_Feature_8       0\n",
              "Restaurant               0\n",
              "Average_Cost_Cleaned     0\n",
              "Minimum_Order_Cleaned    0\n",
              "Rating_Cleaned           0\n",
              "Votes_Cleaned            0\n",
              "Reviews_Cleaned          0\n",
              "Delivery_Time            0\n",
              "dtype: int64"
            ]
          },
          "metadata": {},
          "execution_count": 69
        }
      ]
    },
    {
      "cell_type": "code",
      "metadata": {
        "id": "7ePhAXn12iBg"
      },
      "source": [
        "test_sample.fillna('NAN', inplace = True)"
      ],
      "execution_count": null,
      "outputs": []
    },
    {
      "cell_type": "code",
      "metadata": {
        "id": "ddDN2nVH2h_S",
        "outputId": "00fc19a6-0a6e-4148-e2d4-083abba0e748",
        "colab": {
          "base_uri": "https://localhost:8080/"
        }
      },
      "source": [
        "train_sample.isnull().sum()"
      ],
      "execution_count": null,
      "outputs": [
        {
          "output_type": "execute_result",
          "data": {
            "text/plain": [
              "Location_Feature_1       0\n",
              "Location_Feature_2       0\n",
              "Location_Feature_3       0\n",
              "Location_Feature_4       0\n",
              "Cuisines_Feature_1       0\n",
              "Cuisines_Feature_2       0\n",
              "Cuisines_Feature_3       0\n",
              "Cuisines_Feature_4       0\n",
              "Cuisines_Feature_5       0\n",
              "Cuisines_Feature_6       0\n",
              "Cuisines_Feature_7       0\n",
              "Cuisines_Feature_8       0\n",
              "Restaurant               0\n",
              "Average_Cost_Cleaned     0\n",
              "Minimum_Order_Cleaned    0\n",
              "Rating_Cleaned           0\n",
              "Votes_Cleaned            0\n",
              "Reviews_Cleaned          0\n",
              "Delivery_Time            0\n",
              "dtype: int64"
            ]
          },
          "metadata": {},
          "execution_count": 71
        }
      ]
    },
    {
      "cell_type": "markdown",
      "metadata": {
        "id": "wRVErMt0HBFp"
      },
      "source": [
        "### Encoding Categories"
      ]
    },
    {
      "cell_type": "markdown",
      "metadata": {
        "id": "qkuN0nZ8ZcMo"
      },
      "source": [
        "\n",
        "\n",
        "---\n",
        "\n",
        "Here we will use a simple Label Encoder to transform all the strings or categories."
      ]
    },
    {
      "cell_type": "markdown",
      "metadata": {
        "id": "tQXtDXaONwjx"
      },
      "source": [
        "####Locations & Cuisines"
      ]
    },
    {
      "cell_type": "markdown",
      "metadata": {
        "id": "PWKUUgjRZ3oO"
      },
      "source": [
        "We will first find the unique values or categories in each of the categorical features and fit the label encoder with the unique values. The encoder eill assign an integer code to each of the categories which can be used to tranform the entire categorical feature column."
      ]
    },
    {
      "cell_type": "code",
      "metadata": {
        "id": "3C5FxHrpJyy1"
      },
      "source": [
        "temp1 = []\n",
        "for i in train_Cuisines_splits.keys():\n",
        "  for j in train_Cuisines_splits.get(i):\n",
        "    temp1.append(j)\n",
        "\n",
        "temp2 = []\n",
        "for i in test_Cuisines_splits.keys():\n",
        "  for j in test_Cuisines_splits.get(i):\n",
        "    temp2.append(j)\n",
        "\n",
        "temp1.extend(temp2)\n",
        "\n",
        "unique_cuisines = list(pd.Series(temp1).unique())\n",
        "unique_cuisines.append('NAN')"
      ],
      "execution_count": null,
      "outputs": []
    },
    {
      "cell_type": "markdown",
      "metadata": {
        "id": "-TwuUkxbafu2"
      },
      "source": [
        "**Note:**\n",
        "We are also adding an extra category called NAN that we used to replace the NaN values."
      ]
    },
    {
      "cell_type": "code",
      "metadata": {
        "id": "zVFV3HlYcnB8",
        "outputId": "b36b05ce-c4a6-48ff-8723-3f77d7d36edc",
        "colab": {
          "base_uri": "https://localhost:8080/"
        }
      },
      "source": [
        "len(unique_cuisines)"
      ],
      "execution_count": null,
      "outputs": [
        {
          "output_type": "execute_result",
          "data": {
            "text/plain": [
              "103"
            ]
          },
          "metadata": {},
          "execution_count": 73
        }
      ]
    },
    {
      "cell_type": "markdown",
      "metadata": {
        "id": "sXmPQgxIayR2"
      },
      "source": [
        "The location is a tricky feature. You can use external data to fill the missing data. For example, if the city is missing you can use the street name and try to find the City for the missing fields.\n",
        "\n",
        "For simplicity, here I have followed the same approach as I did for Cuisines which is not a perfect solution."
      ]
    },
    {
      "cell_type": "code",
      "metadata": {
        "id": "PFdxEMFYapOg"
      },
      "source": [
        "temp1 = []\n",
        "for i in train_Location_splits.keys():\n",
        "  for j in train_Location_splits.get(i):\n",
        "    temp1.append(j)\n",
        "\n",
        "temp2 = []\n",
        "for i in test_Location_splits.keys():\n",
        "  for j in test_Location_splits.get(i):\n",
        "    temp2.append(j)\n",
        "\n",
        "temp1.extend(temp2)\n",
        "\n",
        "unique_locations = list(pd.Series(temp1).unique())\n",
        "unique_locations.append('NAN')"
      ],
      "execution_count": null,
      "outputs": []
    },
    {
      "cell_type": "code",
      "metadata": {
        "id": "NgYB9IGpao_8",
        "outputId": "9cf7f295-3545-405f-9e65-bc41dd20fa82",
        "colab": {
          "base_uri": "https://localhost:8080/"
        }
      },
      "source": [
        "len(unique_locations)"
      ],
      "execution_count": null,
      "outputs": [
        {
          "output_type": "execute_result",
          "data": {
            "text/plain": [
              "67"
            ]
          },
          "metadata": {},
          "execution_count": 75
        }
      ]
    },
    {
      "cell_type": "code",
      "metadata": {
        "id": "y4VLRR_SXPeM"
      },
      "source": [
        "#encoding the categorical Features\n",
        "from sklearn.preprocessing import LabelEncoder\n",
        "le_c = LabelEncoder().fit(unique_cuisines)\n",
        "le_l = LabelEncoder().fit(unique_locations)"
      ],
      "execution_count": null,
      "outputs": []
    },
    {
      "cell_type": "code",
      "metadata": {
        "id": "LRZw0YSE3dYe"
      },
      "source": [
        "for i in train_Location_splits.keys():\n",
        "  train_sample[i] = le_l.transform(train_sample[i])"
      ],
      "execution_count": null,
      "outputs": []
    },
    {
      "cell_type": "code",
      "metadata": {
        "id": "4U5u_YD63dVs"
      },
      "source": [
        "\n",
        "for i in train_Cuisines_splits.keys():\n",
        "  train_sample[i] = le_c.transform(train_sample[i])"
      ],
      "execution_count": null,
      "outputs": []
    },
    {
      "cell_type": "code",
      "metadata": {
        "id": "Fj2Jj6BW3fuL"
      },
      "source": [
        "for i in train_Location_splits.keys():\n",
        "  test_sample[i] = le_l.transform(test_sample[i])"
      ],
      "execution_count": null,
      "outputs": []
    },
    {
      "cell_type": "code",
      "metadata": {
        "id": "o1syc4_-3fsG"
      },
      "source": [
        "for i in test_Cuisines_splits.keys():\n",
        "  test_sample[i] = le_c.transform(test_sample[i])"
      ],
      "execution_count": null,
      "outputs": []
    },
    {
      "cell_type": "markdown",
      "metadata": {
        "id": "1R2AgdQg5OKR"
      },
      "source": [
        "####Restaurant IDs"
      ]
    },
    {
      "cell_type": "markdown",
      "metadata": {
        "id": "DAY-qFUkbvOn"
      },
      "source": [
        "We will follow a similar approach for encoding the Restaurant IDs"
      ]
    },
    {
      "cell_type": "code",
      "metadata": {
        "id": "Gjy67q7m4yyI"
      },
      "source": [
        "t1 = list(train_sample['Restaurant'])\n",
        "t2 = list(test_sample['Restaurant'])\n",
        "\n",
        "t1.extend(t2)\n",
        "unique_ids = list(set(t1))"
      ],
      "execution_count": null,
      "outputs": []
    },
    {
      "cell_type": "code",
      "metadata": {
        "id": "rMEP1sK351oP",
        "outputId": "03369942-8627-4136-d7b5-77fadebee254",
        "colab": {
          "base_uri": "https://localhost:8080/"
        }
      },
      "source": [
        "len(unique_ids)"
      ],
      "execution_count": null,
      "outputs": [
        {
          "output_type": "execute_result",
          "data": {
            "text/plain": [
              "7480"
            ]
          },
          "metadata": {},
          "execution_count": 82
        }
      ]
    },
    {
      "cell_type": "code",
      "metadata": {
        "id": "MPZ8Vu2q3foQ"
      },
      "source": [
        "le_id = LabelEncoder().fit(unique_ids)"
      ],
      "execution_count": null,
      "outputs": []
    },
    {
      "cell_type": "code",
      "metadata": {
        "id": "OkIo4_xX3fmb"
      },
      "source": [
        "train_sample['Restaurant'] = le_id.transform(train_sample['Restaurant'])\n",
        "test_sample['Restaurant'] = le_id.transform(test_sample['Restaurant'])"
      ],
      "execution_count": null,
      "outputs": []
    },
    {
      "cell_type": "markdown",
      "metadata": {
        "id": "FIGYqSTs6siA"
      },
      "source": [
        "### Scaling"
      ]
    },
    {
      "cell_type": "markdown",
      "metadata": {
        "id": "RLNrIonDb77p"
      },
      "source": [
        "We will now normalize the data using the StandardScaler"
      ]
    },
    {
      "cell_type": "code",
      "metadata": {
        "id": "BapushLu67t_"
      },
      "source": [
        "cols = list(train_sample.columns)"
      ],
      "execution_count": null,
      "outputs": []
    },
    {
      "cell_type": "code",
      "metadata": {
        "id": "iN9VLzktXPZV"
      },
      "source": [
        "from sklearn.preprocessing import StandardScaler\n",
        "ss = StandardScaler()"
      ],
      "execution_count": null,
      "outputs": []
    },
    {
      "cell_type": "code",
      "metadata": {
        "id": "FnZPES32XPQX"
      },
      "source": [
        "train_sample[cols[:-1]] = ss.fit_transform(train_sample[cols[:-1]])"
      ],
      "execution_count": null,
      "outputs": []
    },
    {
      "cell_type": "code",
      "metadata": {
        "id": "usUErPxy7arJ"
      },
      "source": [
        "test_sample[cols[:-1]] = ss.fit_transform(test_sample[cols[:-1]])"
      ],
      "execution_count": null,
      "outputs": []
    },
    {
      "cell_type": "code",
      "metadata": {
        "id": "SeC25GVmgItl",
        "outputId": "756b8e92-328b-43b7-db95-f16ff91a30cc",
        "colab": {
          "base_uri": "https://localhost:8080/",
          "height": 270
        }
      },
      "source": [
        "train_sample.head()"
      ],
      "execution_count": null,
      "outputs": [
        {
          "output_type": "execute_result",
          "data": {
            "text/plain": [
              "   Location_Feature_1  Location_Feature_2  Location_Feature_3  \\\n",
              "0           -0.980479            0.177867           -0.660952   \n",
              "1           -1.139103           -1.665295           -0.660952   \n",
              "2            0.024135            0.614406           -0.660952   \n",
              "3           -1.191977            1.341970           -0.660952   \n",
              "4            0.817251           -1.665295           -0.660952   \n",
              "\n",
              "   Location_Feature_4  Cuisines_Feature_1  Cuisines_Feature_2  \\\n",
              "0            -0.16102           -0.725688           -0.224932   \n",
              "1            -0.16102            0.813633           -1.119289   \n",
              "2            -0.16102           -0.835640            1.331912   \n",
              "3            -0.16102            0.667031           -1.119289   \n",
              "4            -0.16102            0.960235           -0.059310   \n",
              "\n",
              "   Cuisines_Feature_3  Cuisines_Feature_4  Cuisines_Feature_5  \\\n",
              "0           -0.624804            -0.36029           -0.203607   \n",
              "1           -0.624804            -0.36029           -0.203607   \n",
              "2            2.508856             0.79300            6.207189   \n",
              "3           -0.624804            -0.36029           -0.203607   \n",
              "4           -0.624804            -0.36029           -0.203607   \n",
              "\n",
              "   Cuisines_Feature_6  Cuisines_Feature_7  Cuisines_Feature_8  Restaurant  \\\n",
              "0           -0.123402           -0.083227            -0.05786   -0.526235   \n",
              "1           -0.123402           -0.083227            -0.05786    0.466041   \n",
              "2            3.422604           -0.083227            -0.05786   -1.599352   \n",
              "3           -0.123402           -0.083227            -0.05786    0.661909   \n",
              "4           -0.123402           -0.083227            -0.05786    0.364873   \n",
              "\n",
              "   Average_Cost_Cleaned  Minimum_Order_Cleaned  Rating_Cleaned  Votes_Cleaned  \\\n",
              "0             -0.023829               -0.18083        0.483555      -0.312440   \n",
              "1             -0.802775               -0.18083       -1.920514      -0.416274   \n",
              "2              3.481428               -0.18083        1.284911       6.934786   \n",
              "3              0.365644               -0.18083        0.750674       0.114433   \n",
              "4             -0.023829               -0.18083       -0.852039      -0.322055   \n",
              "\n",
              "   Reviews_Cleaned Delivery_Time  \n",
              "0        -0.281946    45 minutes  \n",
              "1        -0.376964    30 minutes  \n",
              "2         6.226797    45 minutes  \n",
              "3        -0.027433    45 minutes  \n",
              "4        -0.268372    45 minutes  "
            ],
            "text/html": [
              "\n",
              "  <div id=\"df-47849202-db56-4a2e-8eec-2a841eb40ec3\">\n",
              "    <div class=\"colab-df-container\">\n",
              "      <div>\n",
              "<style scoped>\n",
              "    .dataframe tbody tr th:only-of-type {\n",
              "        vertical-align: middle;\n",
              "    }\n",
              "\n",
              "    .dataframe tbody tr th {\n",
              "        vertical-align: top;\n",
              "    }\n",
              "\n",
              "    .dataframe thead th {\n",
              "        text-align: right;\n",
              "    }\n",
              "</style>\n",
              "<table border=\"1\" class=\"dataframe\">\n",
              "  <thead>\n",
              "    <tr style=\"text-align: right;\">\n",
              "      <th></th>\n",
              "      <th>Location_Feature_1</th>\n",
              "      <th>Location_Feature_2</th>\n",
              "      <th>Location_Feature_3</th>\n",
              "      <th>Location_Feature_4</th>\n",
              "      <th>Cuisines_Feature_1</th>\n",
              "      <th>Cuisines_Feature_2</th>\n",
              "      <th>Cuisines_Feature_3</th>\n",
              "      <th>Cuisines_Feature_4</th>\n",
              "      <th>Cuisines_Feature_5</th>\n",
              "      <th>Cuisines_Feature_6</th>\n",
              "      <th>Cuisines_Feature_7</th>\n",
              "      <th>Cuisines_Feature_8</th>\n",
              "      <th>Restaurant</th>\n",
              "      <th>Average_Cost_Cleaned</th>\n",
              "      <th>Minimum_Order_Cleaned</th>\n",
              "      <th>Rating_Cleaned</th>\n",
              "      <th>Votes_Cleaned</th>\n",
              "      <th>Reviews_Cleaned</th>\n",
              "      <th>Delivery_Time</th>\n",
              "    </tr>\n",
              "  </thead>\n",
              "  <tbody>\n",
              "    <tr>\n",
              "      <th>0</th>\n",
              "      <td>-0.980479</td>\n",
              "      <td>0.177867</td>\n",
              "      <td>-0.660952</td>\n",
              "      <td>-0.16102</td>\n",
              "      <td>-0.725688</td>\n",
              "      <td>-0.224932</td>\n",
              "      <td>-0.624804</td>\n",
              "      <td>-0.36029</td>\n",
              "      <td>-0.203607</td>\n",
              "      <td>-0.123402</td>\n",
              "      <td>-0.083227</td>\n",
              "      <td>-0.05786</td>\n",
              "      <td>-0.526235</td>\n",
              "      <td>-0.023829</td>\n",
              "      <td>-0.18083</td>\n",
              "      <td>0.483555</td>\n",
              "      <td>-0.312440</td>\n",
              "      <td>-0.281946</td>\n",
              "      <td>45 minutes</td>\n",
              "    </tr>\n",
              "    <tr>\n",
              "      <th>1</th>\n",
              "      <td>-1.139103</td>\n",
              "      <td>-1.665295</td>\n",
              "      <td>-0.660952</td>\n",
              "      <td>-0.16102</td>\n",
              "      <td>0.813633</td>\n",
              "      <td>-1.119289</td>\n",
              "      <td>-0.624804</td>\n",
              "      <td>-0.36029</td>\n",
              "      <td>-0.203607</td>\n",
              "      <td>-0.123402</td>\n",
              "      <td>-0.083227</td>\n",
              "      <td>-0.05786</td>\n",
              "      <td>0.466041</td>\n",
              "      <td>-0.802775</td>\n",
              "      <td>-0.18083</td>\n",
              "      <td>-1.920514</td>\n",
              "      <td>-0.416274</td>\n",
              "      <td>-0.376964</td>\n",
              "      <td>30 minutes</td>\n",
              "    </tr>\n",
              "    <tr>\n",
              "      <th>2</th>\n",
              "      <td>0.024135</td>\n",
              "      <td>0.614406</td>\n",
              "      <td>-0.660952</td>\n",
              "      <td>-0.16102</td>\n",
              "      <td>-0.835640</td>\n",
              "      <td>1.331912</td>\n",
              "      <td>2.508856</td>\n",
              "      <td>0.79300</td>\n",
              "      <td>6.207189</td>\n",
              "      <td>3.422604</td>\n",
              "      <td>-0.083227</td>\n",
              "      <td>-0.05786</td>\n",
              "      <td>-1.599352</td>\n",
              "      <td>3.481428</td>\n",
              "      <td>-0.18083</td>\n",
              "      <td>1.284911</td>\n",
              "      <td>6.934786</td>\n",
              "      <td>6.226797</td>\n",
              "      <td>45 minutes</td>\n",
              "    </tr>\n",
              "    <tr>\n",
              "      <th>3</th>\n",
              "      <td>-1.191977</td>\n",
              "      <td>1.341970</td>\n",
              "      <td>-0.660952</td>\n",
              "      <td>-0.16102</td>\n",
              "      <td>0.667031</td>\n",
              "      <td>-1.119289</td>\n",
              "      <td>-0.624804</td>\n",
              "      <td>-0.36029</td>\n",
              "      <td>-0.203607</td>\n",
              "      <td>-0.123402</td>\n",
              "      <td>-0.083227</td>\n",
              "      <td>-0.05786</td>\n",
              "      <td>0.661909</td>\n",
              "      <td>0.365644</td>\n",
              "      <td>-0.18083</td>\n",
              "      <td>0.750674</td>\n",
              "      <td>0.114433</td>\n",
              "      <td>-0.027433</td>\n",
              "      <td>45 minutes</td>\n",
              "    </tr>\n",
              "    <tr>\n",
              "      <th>4</th>\n",
              "      <td>0.817251</td>\n",
              "      <td>-1.665295</td>\n",
              "      <td>-0.660952</td>\n",
              "      <td>-0.16102</td>\n",
              "      <td>0.960235</td>\n",
              "      <td>-0.059310</td>\n",
              "      <td>-0.624804</td>\n",
              "      <td>-0.36029</td>\n",
              "      <td>-0.203607</td>\n",
              "      <td>-0.123402</td>\n",
              "      <td>-0.083227</td>\n",
              "      <td>-0.05786</td>\n",
              "      <td>0.364873</td>\n",
              "      <td>-0.023829</td>\n",
              "      <td>-0.18083</td>\n",
              "      <td>-0.852039</td>\n",
              "      <td>-0.322055</td>\n",
              "      <td>-0.268372</td>\n",
              "      <td>45 minutes</td>\n",
              "    </tr>\n",
              "  </tbody>\n",
              "</table>\n",
              "</div>\n",
              "      <button class=\"colab-df-convert\" onclick=\"convertToInteractive('df-47849202-db56-4a2e-8eec-2a841eb40ec3')\"\n",
              "              title=\"Convert this dataframe to an interactive table.\"\n",
              "              style=\"display:none;\">\n",
              "        \n",
              "  <svg xmlns=\"http://www.w3.org/2000/svg\" height=\"24px\"viewBox=\"0 0 24 24\"\n",
              "       width=\"24px\">\n",
              "    <path d=\"M0 0h24v24H0V0z\" fill=\"none\"/>\n",
              "    <path d=\"M18.56 5.44l.94 2.06.94-2.06 2.06-.94-2.06-.94-.94-2.06-.94 2.06-2.06.94zm-11 1L8.5 8.5l.94-2.06 2.06-.94-2.06-.94L8.5 2.5l-.94 2.06-2.06.94zm10 10l.94 2.06.94-2.06 2.06-.94-2.06-.94-.94-2.06-.94 2.06-2.06.94z\"/><path d=\"M17.41 7.96l-1.37-1.37c-.4-.4-.92-.59-1.43-.59-.52 0-1.04.2-1.43.59L10.3 9.45l-7.72 7.72c-.78.78-.78 2.05 0 2.83L4 21.41c.39.39.9.59 1.41.59.51 0 1.02-.2 1.41-.59l7.78-7.78 2.81-2.81c.8-.78.8-2.07 0-2.86zM5.41 20L4 18.59l7.72-7.72 1.47 1.35L5.41 20z\"/>\n",
              "  </svg>\n",
              "      </button>\n",
              "      \n",
              "  <style>\n",
              "    .colab-df-container {\n",
              "      display:flex;\n",
              "      flex-wrap:wrap;\n",
              "      gap: 12px;\n",
              "    }\n",
              "\n",
              "    .colab-df-convert {\n",
              "      background-color: #E8F0FE;\n",
              "      border: none;\n",
              "      border-radius: 50%;\n",
              "      cursor: pointer;\n",
              "      display: none;\n",
              "      fill: #1967D2;\n",
              "      height: 32px;\n",
              "      padding: 0 0 0 0;\n",
              "      width: 32px;\n",
              "    }\n",
              "\n",
              "    .colab-df-convert:hover {\n",
              "      background-color: #E2EBFA;\n",
              "      box-shadow: 0px 1px 2px rgba(60, 64, 67, 0.3), 0px 1px 3px 1px rgba(60, 64, 67, 0.15);\n",
              "      fill: #174EA6;\n",
              "    }\n",
              "\n",
              "    [theme=dark] .colab-df-convert {\n",
              "      background-color: #3B4455;\n",
              "      fill: #D2E3FC;\n",
              "    }\n",
              "\n",
              "    [theme=dark] .colab-df-convert:hover {\n",
              "      background-color: #434B5C;\n",
              "      box-shadow: 0px 1px 3px 1px rgba(0, 0, 0, 0.15);\n",
              "      filter: drop-shadow(0px 1px 2px rgba(0, 0, 0, 0.3));\n",
              "      fill: #FFFFFF;\n",
              "    }\n",
              "  </style>\n",
              "\n",
              "      <script>\n",
              "        const buttonEl =\n",
              "          document.querySelector('#df-47849202-db56-4a2e-8eec-2a841eb40ec3 button.colab-df-convert');\n",
              "        buttonEl.style.display =\n",
              "          google.colab.kernel.accessAllowed ? 'block' : 'none';\n",
              "\n",
              "        async function convertToInteractive(key) {\n",
              "          const element = document.querySelector('#df-47849202-db56-4a2e-8eec-2a841eb40ec3');\n",
              "          const dataTable =\n",
              "            await google.colab.kernel.invokeFunction('convertToInteractive',\n",
              "                                                     [key], {});\n",
              "          if (!dataTable) return;\n",
              "\n",
              "          const docLinkHtml = 'Like what you see? Visit the ' +\n",
              "            '<a target=\"_blank\" href=https://colab.research.google.com/notebooks/data_table.ipynb>data table notebook</a>'\n",
              "            + ' to learn more about interactive tables.';\n",
              "          element.innerHTML = '';\n",
              "          dataTable['output_type'] = 'display_data';\n",
              "          await google.colab.output.renderOutput(dataTable, element);\n",
              "          const docLink = document.createElement('div');\n",
              "          docLink.innerHTML = docLinkHtml;\n",
              "          element.appendChild(docLink);\n",
              "        }\n",
              "      </script>\n",
              "    </div>\n",
              "  </div>\n",
              "  "
            ]
          },
          "metadata": {},
          "execution_count": 89
        }
      ]
    },
    {
      "cell_type": "code",
      "metadata": {
        "id": "mF9OMgtMgKRt",
        "outputId": "a6387a00-73a3-4f4d-c2b4-426df3ef2d4d",
        "colab": {
          "base_uri": "https://localhost:8080/",
          "height": 270
        }
      },
      "source": [
        "test_sample.head()"
      ],
      "execution_count": null,
      "outputs": [
        {
          "output_type": "execute_result",
          "data": {
            "text/plain": [
              "   Location_Feature_1  Location_Feature_2  Location_Feature_3  \\\n",
              "0           -0.942852            0.155271           -0.658694   \n",
              "1            0.111439            1.222276           -0.454447   \n",
              "2            1.534733            1.416277            1.179528   \n",
              "3           -0.942852            0.155271           -0.658694   \n",
              "4           -0.152133           -1.687738           -0.658694   \n",
              "\n",
              "   Location_Feature_4  Cuisines_Feature_1  Cuisines_Feature_2  \\\n",
              "0           -0.162884           -0.671448           -1.102410   \n",
              "1            0.784531           -1.286485            1.922748   \n",
              "2           -0.162884            1.390733           -1.102410   \n",
              "3           -0.162884            1.390733            1.304705   \n",
              "4           -0.162884            1.137482            1.174591   \n",
              "\n",
              "   Cuisines_Feature_3  Cuisines_Feature_4  Cuisines_Feature_5  \\\n",
              "0           -0.608594           -0.358018           -0.211737   \n",
              "1           -0.608594           -0.358018           -0.211737   \n",
              "2           -0.608594           -0.358018           -0.211737   \n",
              "3            0.562736           -0.358018           -0.211737   \n",
              "4           -0.608594           -0.358018           -0.211737   \n",
              "\n",
              "   Cuisines_Feature_6  Cuisines_Feature_7  Cuisines_Feature_8  Restaurant  \\\n",
              "0           -0.131775           -0.095667           -0.053948   -0.733454   \n",
              "1           -0.131775           -0.095667           -0.053948   -0.259800   \n",
              "2           -0.131775           -0.095667           -0.053948    0.811373   \n",
              "3           -0.131775           -0.095667           -0.053948   -0.873092   \n",
              "4           -0.131775           -0.095667           -0.053948   -0.533972   \n",
              "\n",
              "   Average_Cost_Cleaned  Minimum_Order_Cleaned  Rating_Cleaned  Votes_Cleaned  \\\n",
              "0             -0.747884              -0.180773        0.047502       0.070284   \n",
              "1             -0.747884              -0.180773       -0.774554      -0.512642   \n",
              "2             -0.009648              -0.180773       -1.036806      -0.493211   \n",
              "3             -0.009648              -0.180773        0.274456      -0.080305   \n",
              "4             -0.747884              -0.180773        0.012203      -0.476209   \n",
              "\n",
              "   Reviews_Cleaned  \n",
              "0         0.048872  \n",
              "1        -0.439756  \n",
              "2        -0.435684  \n",
              "3        -0.016278  \n",
              "4        -0.423469  "
            ],
            "text/html": [
              "\n",
              "  <div id=\"df-973f8446-fcd0-4f4e-87ce-dcfbf77991e0\">\n",
              "    <div class=\"colab-df-container\">\n",
              "      <div>\n",
              "<style scoped>\n",
              "    .dataframe tbody tr th:only-of-type {\n",
              "        vertical-align: middle;\n",
              "    }\n",
              "\n",
              "    .dataframe tbody tr th {\n",
              "        vertical-align: top;\n",
              "    }\n",
              "\n",
              "    .dataframe thead th {\n",
              "        text-align: right;\n",
              "    }\n",
              "</style>\n",
              "<table border=\"1\" class=\"dataframe\">\n",
              "  <thead>\n",
              "    <tr style=\"text-align: right;\">\n",
              "      <th></th>\n",
              "      <th>Location_Feature_1</th>\n",
              "      <th>Location_Feature_2</th>\n",
              "      <th>Location_Feature_3</th>\n",
              "      <th>Location_Feature_4</th>\n",
              "      <th>Cuisines_Feature_1</th>\n",
              "      <th>Cuisines_Feature_2</th>\n",
              "      <th>Cuisines_Feature_3</th>\n",
              "      <th>Cuisines_Feature_4</th>\n",
              "      <th>Cuisines_Feature_5</th>\n",
              "      <th>Cuisines_Feature_6</th>\n",
              "      <th>Cuisines_Feature_7</th>\n",
              "      <th>Cuisines_Feature_8</th>\n",
              "      <th>Restaurant</th>\n",
              "      <th>Average_Cost_Cleaned</th>\n",
              "      <th>Minimum_Order_Cleaned</th>\n",
              "      <th>Rating_Cleaned</th>\n",
              "      <th>Votes_Cleaned</th>\n",
              "      <th>Reviews_Cleaned</th>\n",
              "    </tr>\n",
              "  </thead>\n",
              "  <tbody>\n",
              "    <tr>\n",
              "      <th>0</th>\n",
              "      <td>-0.942852</td>\n",
              "      <td>0.155271</td>\n",
              "      <td>-0.658694</td>\n",
              "      <td>-0.162884</td>\n",
              "      <td>-0.671448</td>\n",
              "      <td>-1.102410</td>\n",
              "      <td>-0.608594</td>\n",
              "      <td>-0.358018</td>\n",
              "      <td>-0.211737</td>\n",
              "      <td>-0.131775</td>\n",
              "      <td>-0.095667</td>\n",
              "      <td>-0.053948</td>\n",
              "      <td>-0.733454</td>\n",
              "      <td>-0.747884</td>\n",
              "      <td>-0.180773</td>\n",
              "      <td>0.047502</td>\n",
              "      <td>0.070284</td>\n",
              "      <td>0.048872</td>\n",
              "    </tr>\n",
              "    <tr>\n",
              "      <th>1</th>\n",
              "      <td>0.111439</td>\n",
              "      <td>1.222276</td>\n",
              "      <td>-0.454447</td>\n",
              "      <td>0.784531</td>\n",
              "      <td>-1.286485</td>\n",
              "      <td>1.922748</td>\n",
              "      <td>-0.608594</td>\n",
              "      <td>-0.358018</td>\n",
              "      <td>-0.211737</td>\n",
              "      <td>-0.131775</td>\n",
              "      <td>-0.095667</td>\n",
              "      <td>-0.053948</td>\n",
              "      <td>-0.259800</td>\n",
              "      <td>-0.747884</td>\n",
              "      <td>-0.180773</td>\n",
              "      <td>-0.774554</td>\n",
              "      <td>-0.512642</td>\n",
              "      <td>-0.439756</td>\n",
              "    </tr>\n",
              "    <tr>\n",
              "      <th>2</th>\n",
              "      <td>1.534733</td>\n",
              "      <td>1.416277</td>\n",
              "      <td>1.179528</td>\n",
              "      <td>-0.162884</td>\n",
              "      <td>1.390733</td>\n",
              "      <td>-1.102410</td>\n",
              "      <td>-0.608594</td>\n",
              "      <td>-0.358018</td>\n",
              "      <td>-0.211737</td>\n",
              "      <td>-0.131775</td>\n",
              "      <td>-0.095667</td>\n",
              "      <td>-0.053948</td>\n",
              "      <td>0.811373</td>\n",
              "      <td>-0.009648</td>\n",
              "      <td>-0.180773</td>\n",
              "      <td>-1.036806</td>\n",
              "      <td>-0.493211</td>\n",
              "      <td>-0.435684</td>\n",
              "    </tr>\n",
              "    <tr>\n",
              "      <th>3</th>\n",
              "      <td>-0.942852</td>\n",
              "      <td>0.155271</td>\n",
              "      <td>-0.658694</td>\n",
              "      <td>-0.162884</td>\n",
              "      <td>1.390733</td>\n",
              "      <td>1.304705</td>\n",
              "      <td>0.562736</td>\n",
              "      <td>-0.358018</td>\n",
              "      <td>-0.211737</td>\n",
              "      <td>-0.131775</td>\n",
              "      <td>-0.095667</td>\n",
              "      <td>-0.053948</td>\n",
              "      <td>-0.873092</td>\n",
              "      <td>-0.009648</td>\n",
              "      <td>-0.180773</td>\n",
              "      <td>0.274456</td>\n",
              "      <td>-0.080305</td>\n",
              "      <td>-0.016278</td>\n",
              "    </tr>\n",
              "    <tr>\n",
              "      <th>4</th>\n",
              "      <td>-0.152133</td>\n",
              "      <td>-1.687738</td>\n",
              "      <td>-0.658694</td>\n",
              "      <td>-0.162884</td>\n",
              "      <td>1.137482</td>\n",
              "      <td>1.174591</td>\n",
              "      <td>-0.608594</td>\n",
              "      <td>-0.358018</td>\n",
              "      <td>-0.211737</td>\n",
              "      <td>-0.131775</td>\n",
              "      <td>-0.095667</td>\n",
              "      <td>-0.053948</td>\n",
              "      <td>-0.533972</td>\n",
              "      <td>-0.747884</td>\n",
              "      <td>-0.180773</td>\n",
              "      <td>0.012203</td>\n",
              "      <td>-0.476209</td>\n",
              "      <td>-0.423469</td>\n",
              "    </tr>\n",
              "  </tbody>\n",
              "</table>\n",
              "</div>\n",
              "      <button class=\"colab-df-convert\" onclick=\"convertToInteractive('df-973f8446-fcd0-4f4e-87ce-dcfbf77991e0')\"\n",
              "              title=\"Convert this dataframe to an interactive table.\"\n",
              "              style=\"display:none;\">\n",
              "        \n",
              "  <svg xmlns=\"http://www.w3.org/2000/svg\" height=\"24px\"viewBox=\"0 0 24 24\"\n",
              "       width=\"24px\">\n",
              "    <path d=\"M0 0h24v24H0V0z\" fill=\"none\"/>\n",
              "    <path d=\"M18.56 5.44l.94 2.06.94-2.06 2.06-.94-2.06-.94-.94-2.06-.94 2.06-2.06.94zm-11 1L8.5 8.5l.94-2.06 2.06-.94-2.06-.94L8.5 2.5l-.94 2.06-2.06.94zm10 10l.94 2.06.94-2.06 2.06-.94-2.06-.94-.94-2.06-.94 2.06-2.06.94z\"/><path d=\"M17.41 7.96l-1.37-1.37c-.4-.4-.92-.59-1.43-.59-.52 0-1.04.2-1.43.59L10.3 9.45l-7.72 7.72c-.78.78-.78 2.05 0 2.83L4 21.41c.39.39.9.59 1.41.59.51 0 1.02-.2 1.41-.59l7.78-7.78 2.81-2.81c.8-.78.8-2.07 0-2.86zM5.41 20L4 18.59l7.72-7.72 1.47 1.35L5.41 20z\"/>\n",
              "  </svg>\n",
              "      </button>\n",
              "      \n",
              "  <style>\n",
              "    .colab-df-container {\n",
              "      display:flex;\n",
              "      flex-wrap:wrap;\n",
              "      gap: 12px;\n",
              "    }\n",
              "\n",
              "    .colab-df-convert {\n",
              "      background-color: #E8F0FE;\n",
              "      border: none;\n",
              "      border-radius: 50%;\n",
              "      cursor: pointer;\n",
              "      display: none;\n",
              "      fill: #1967D2;\n",
              "      height: 32px;\n",
              "      padding: 0 0 0 0;\n",
              "      width: 32px;\n",
              "    }\n",
              "\n",
              "    .colab-df-convert:hover {\n",
              "      background-color: #E2EBFA;\n",
              "      box-shadow: 0px 1px 2px rgba(60, 64, 67, 0.3), 0px 1px 3px 1px rgba(60, 64, 67, 0.15);\n",
              "      fill: #174EA6;\n",
              "    }\n",
              "\n",
              "    [theme=dark] .colab-df-convert {\n",
              "      background-color: #3B4455;\n",
              "      fill: #D2E3FC;\n",
              "    }\n",
              "\n",
              "    [theme=dark] .colab-df-convert:hover {\n",
              "      background-color: #434B5C;\n",
              "      box-shadow: 0px 1px 3px 1px rgba(0, 0, 0, 0.15);\n",
              "      filter: drop-shadow(0px 1px 2px rgba(0, 0, 0, 0.3));\n",
              "      fill: #FFFFFF;\n",
              "    }\n",
              "  </style>\n",
              "\n",
              "      <script>\n",
              "        const buttonEl =\n",
              "          document.querySelector('#df-973f8446-fcd0-4f4e-87ce-dcfbf77991e0 button.colab-df-convert');\n",
              "        buttonEl.style.display =\n",
              "          google.colab.kernel.accessAllowed ? 'block' : 'none';\n",
              "\n",
              "        async function convertToInteractive(key) {\n",
              "          const element = document.querySelector('#df-973f8446-fcd0-4f4e-87ce-dcfbf77991e0');\n",
              "          const dataTable =\n",
              "            await google.colab.kernel.invokeFunction('convertToInteractive',\n",
              "                                                     [key], {});\n",
              "          if (!dataTable) return;\n",
              "\n",
              "          const docLinkHtml = 'Like what you see? Visit the ' +\n",
              "            '<a target=\"_blank\" href=https://colab.research.google.com/notebooks/data_table.ipynb>data table notebook</a>'\n",
              "            + ' to learn more about interactive tables.';\n",
              "          element.innerHTML = '';\n",
              "          dataTable['output_type'] = 'display_data';\n",
              "          await google.colab.output.renderOutput(dataTable, element);\n",
              "          const docLink = document.createElement('div');\n",
              "          docLink.innerHTML = docLinkHtml;\n",
              "          element.appendChild(docLink);\n",
              "        }\n",
              "      </script>\n",
              "    </div>\n",
              "  </div>\n",
              "  "
            ]
          },
          "metadata": {},
          "execution_count": 90
        }
      ]
    },
    {
      "cell_type": "markdown",
      "metadata": {
        "id": "cVLi3tWF77GQ"
      },
      "source": [
        "##Modeling"
      ]
    },
    {
      "cell_type": "markdown",
      "metadata": {
        "id": "r7mSn15PcLBy"
      },
      "source": [
        "Finally, we are ready for modeling. We will split the training set into training and validation sets.\n",
        "\n",
        "We will then use the training set to train and validation set to test the performance of the model.\n",
        "\n",
        "Finally we will use the given test set for predicting.\n",
        "\n",
        "\n"
      ]
    },
    {
      "cell_type": "code",
      "metadata": {
        "id": "GyvnZnyAcmTF"
      },
      "source": [
        "from sklearn.model_selection import train_test_split\n",
        "\n",
        "train, val = train_test_split(train_sample, test_size = 0.1, random_state = 123)"
      ],
      "execution_count": null,
      "outputs": []
    },
    {
      "cell_type": "code",
      "metadata": {
        "id": "moR5oT7H8Gj2"
      },
      "source": [
        "X_train = train[cols[:-1]]\n",
        "Y_train = train[cols[-1]]\n",
        "\n",
        "X_Val = val[cols[:-1]]\n",
        "Y_Val = val[cols[-1]]\n",
        "\n",
        "X_test = test_sample[cols[:-1]]"
      ],
      "execution_count": null,
      "outputs": []
    },
    {
      "cell_type": "code",
      "metadata": {
        "id": "nsciW_cU7ak5"
      },
      "source": [
        "from xgboost import XGBClassifier\n",
        "\n",
        "xgb = XGBClassifier()\n",
        "\n",
        "xgb.fit(X_train,Y_train)"
      ],
      "execution_count": null,
      "outputs": []
    },
    {
      "cell_type": "markdown",
      "source": [
        "![image.png](data:image/png;base64,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)"
      ],
      "metadata": {
        "id": "UwMAkDdK-hpW"
      }
    },
    {
      "cell_type": "code",
      "metadata": {
        "id": "0hBSBM_y76WT"
      },
      "source": [
        "xgb.score(X_Val,Y_Val)"
      ],
      "execution_count": null,
      "outputs": []
    },
    {
      "cell_type": "markdown",
      "source": [
        "0.7216216216216216"
      ],
      "metadata": {
        "id": "U9VHR9pj-wMq"
      }
    },
    {
      "cell_type": "markdown",
      "metadata": {
        "id": "fJ6fmF5FiDGi"
      },
      "source": [
        "\n",
        "---\n",
        "\n",
        "This is a baseline model. Fine tuning the model can give better results. Also, tryout different algorithms to find the best."
      ]
    },
    {
      "cell_type": "code",
      "source": [
        "# NAIVE - BAYES\n",
        "from sklearn.naive_bayes import GaussianNB\n",
        "nb_model = GaussianNB()\n",
        "nb_model.fit(X_train, Y_train)\n",
        "nb_model.score(X_Val,Y_Val)"
      ],
      "metadata": {
        "colab": {
          "base_uri": "https://localhost:8080/"
        },
        "id": "MSst4BquCl2G",
        "outputId": "871e820d-f2ab-4031-ccca-ea50d4f59a6e"
      },
      "execution_count": null,
      "outputs": [
        {
          "output_type": "execute_result",
          "data": {
            "text/plain": [
              "0.01463963963963964"
            ]
          },
          "metadata": {},
          "execution_count": 119
        }
      ]
    },
    {
      "cell_type": "code",
      "source": [
        "#KNN\n",
        "from sklearn.neighbors import KNeighborsClassifier\n",
        "KNN_model=KNeighborsClassifier()\n",
        "KNN_model.fit(X_train, Y_train)\n",
        "KNN_model.score(X_Val,Y_Val)"
      ],
      "metadata": {
        "colab": {
          "base_uri": "https://localhost:8080/"
        },
        "id": "hjn_D6KK_Nnf",
        "outputId": "84b159ee-b731-46f2-df23-1fa3d9e2faca"
      },
      "execution_count": null,
      "outputs": [
        {
          "output_type": "execute_result",
          "data": {
            "text/plain": [
              "0.6745495495495496"
            ]
          },
          "metadata": {},
          "execution_count": 111
        }
      ]
    },
    {
      "cell_type": "code",
      "source": [
        "#SVM\n",
        "from sklearn.svm import SVC\n",
        "svm_model = SVC()\n",
        "svm_model.fit(X_train, Y_train)\n",
        "svm_model.score(X_Val,Y_Val)"
      ],
      "metadata": {
        "colab": {
          "base_uri": "https://localhost:8080/"
        },
        "id": "XA8zqccOBnV0",
        "outputId": "261d7950-ab5b-446b-dc18-a16af3a8e5c1"
      },
      "execution_count": null,
      "outputs": [
        {
          "output_type": "execute_result",
          "data": {
            "text/plain": [
              "0.7105855855855856"
            ]
          },
          "metadata": {},
          "execution_count": 116
        }
      ]
    },
    {
      "cell_type": "code",
      "metadata": {
        "id": "ZNacLwWr6Lpo",
        "colab": {
          "base_uri": "https://localhost:8080/"
        },
        "outputId": "554cb1bf-a4e9-4316-db9d-c6b9063195ee"
      },
      "source": [
        "#DecisionTreeClassifier\n",
        "from sklearn.tree import DecisionTreeClassifier\n",
        "clf = DecisionTreeClassifier(random_state=0)\n",
        "clf.fit(X_train,Y_train)\n",
        "clf.score(X_Val,Y_Val)"
      ],
      "execution_count": null,
      "outputs": [
        {
          "output_type": "execute_result",
          "data": {
            "text/plain": [
              "0.6801801801801802"
            ]
          },
          "metadata": {},
          "execution_count": 117
        }
      ]
    },
    {
      "cell_type": "code",
      "metadata": {
        "id": "oWy-MjbV6Lpy",
        "colab": {
          "base_uri": "https://localhost:8080/"
        },
        "outputId": "0780459e-5c4c-4e85-8d9b-eaae7c4e1653"
      },
      "source": [
        "#RandomForestClassifier\n",
        "from sklearn.ensemble import RandomForestClassifier\n",
        "Rforest = RandomForestClassifier()\n",
        "Rforest.fit(X_train,Y_train)\n",
        "Rforest.score(X_Val,Y_Val)"
      ],
      "execution_count": null,
      "outputs": [
        {
          "output_type": "execute_result",
          "data": {
            "text/plain": [
              "0.7635135135135135"
            ]
          },
          "metadata": {},
          "execution_count": 118
        }
      ]
    },
    {
      "cell_type": "code",
      "source": [
        "#Ensemble learning for classifier\n",
        "from sklearn.ensemble import VotingClassifier\n",
        "cl1= DecisionTreeClassifier()\n",
        "cl2 = RandomForestClassifier()\n",
        "cl3 = SVC()\n",
        "cl4 = KNeighborsClassifier()\n",
        "cl5 = GaussianNB()\n",
        "cl_voting =VotingClassifier(estimators=[('DT', cl1),('RF', cl2),('svm',cl3),('KNN', cl4),('NB',cl5)],voting='hard')\n",
        "cl_voting.fit(X_train, Y_train)\n",
        "cl_voting.score(X_Val,Y_Val)"
      ],
      "metadata": {
        "colab": {
          "base_uri": "https://localhost:8080/"
        },
        "id": "y1P8Fb2aDDvw",
        "outputId": "569e68e1-ab18-4ab4-bf2c-eda2324d1434"
      },
      "execution_count": null,
      "outputs": [
        {
          "output_type": "execute_result",
          "data": {
            "text/plain": [
              "0.7297297297297297"
            ]
          },
          "metadata": {},
          "execution_count": 121
        }
      ]
    },
    {
      "cell_type": "code",
      "metadata": {
        "id": "cjYfsDP36Lp3"
      },
      "source": [
        "import warnings\n",
        "warnings.filterwarnings('ignore')"
      ],
      "execution_count": null,
      "outputs": []
    },
    {
      "cell_type": "code",
      "metadata": {
        "id": "JaVPuOYV8yRC"
      },
      "source": [
        "Predictions = Rforest.predict(X_test)"
      ],
      "execution_count": null,
      "outputs": []
    },
    {
      "cell_type": "code",
      "metadata": {
        "id": "3DSsS73R9C5k"
      },
      "source": [
        "pd.DataFrame(Predictions, columns = ['Delivery_Time']).to_excel(\"/content/Submission.xlsx\", index = False)"
      ],
      "execution_count": null,
      "outputs": []
    }
  ]
}
